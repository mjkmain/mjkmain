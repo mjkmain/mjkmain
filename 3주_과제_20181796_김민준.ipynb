{
  "nbformat": 4,
  "nbformat_minor": 0,
  "metadata": {
    "colab": {
      "name": "3주 과제 20181796 김민준.ipynb",
      "provenance": [],
      "collapsed_sections": [],
      "include_colab_link": true
    },
    "kernelspec": {
      "name": "python3",
      "display_name": "Python 3"
    }
  },
  "cells": [
    {
      "cell_type": "markdown",
      "metadata": {
        "id": "view-in-github",
        "colab_type": "text"
      },
      "source": [
        "<a href=\"https://colab.research.google.com/github/mjkmain/mjkmain/blob/main/3%EC%A3%BC_%EA%B3%BC%EC%A0%9C_20181796_%EA%B9%80%EB%AF%BC%EC%A4%80.ipynb\" target=\"_parent\"><img src=\"https://colab.research.google.com/assets/colab-badge.svg\" alt=\"Open In Colab\"/></a>"
      ]
    },
    {
      "cell_type": "code",
      "metadata": {
        "colab": {
          "base_uri": "https://localhost:8080/"
        },
        "id": "Rv3qVZEeqvOG",
        "outputId": "af072aed-e9a9-4846-95f3-3812842cda2f"
      },
      "source": [
        "print(\"Hello World!\")"
      ],
      "execution_count": null,
      "outputs": [
        {
          "output_type": "stream",
          "text": [
            "Hello World!\n"
          ],
          "name": "stdout"
        }
      ]
    },
    {
      "cell_type": "code",
      "metadata": {
        "colab": {
          "base_uri": "https://localhost:8080/"
        },
        "id": "7i0l31zbuxHk",
        "outputId": "c5902497-d9d6-4cba-80b6-d4a6a26cd5c9"
      },
      "source": [
        "samsung=50000\r\n",
        "tot=10*samsung\r\n",
        "print(tot)"
      ],
      "execution_count": null,
      "outputs": [
        {
          "output_type": "stream",
          "text": [
            "500000\n"
          ],
          "name": "stdout"
        }
      ]
    },
    {
      "cell_type": "code",
      "metadata": {
        "colab": {
          "base_uri": "https://localhost:8080/"
        },
        "id": "Eiva3uBSvUWW",
        "outputId": "039c2a3a-b478-49fb-d851-dc96c323432f"
      },
      "source": [
        "a= \"132\"\r\n",
        "print(type(a))"
      ],
      "execution_count": null,
      "outputs": [
        {
          "output_type": "stream",
          "text": [
            "<class 'str'>\n"
          ],
          "name": "stdout"
        }
      ]
    },
    {
      "cell_type": "code",
      "metadata": {
        "colab": {
          "base_uri": "https://localhost:8080/"
        },
        "id": "F2BMHE3RvkmV",
        "outputId": "0a123671-e547-471a-c94d-29f56c7f2a42"
      },
      "source": [
        "num_str=\"720\"\r\n",
        "num=int(num_str)\r\n",
        "print(num)\r\n",
        "print(type(num))"
      ],
      "execution_count": null,
      "outputs": [
        {
          "output_type": "stream",
          "text": [
            "720\n",
            "<class 'int'>\n"
          ],
          "name": "stdout"
        }
      ]
    },
    {
      "cell_type": "code",
      "metadata": {
        "colab": {
          "base_uri": "https://localhost:8080/"
        },
        "id": "HB1fS82IwHda",
        "outputId": "e369715f-7691-4284-cbfb-a1ea515cf21e"
      },
      "source": [
        "pi = 3.141592\r\n",
        "pi = str(pi)\r\n",
        "print(pi,type(pi))"
      ],
      "execution_count": null,
      "outputs": [
        {
          "output_type": "stream",
          "text": [
            "3.141592 <class 'str'>\n"
          ],
          "name": "stdout"
        }
      ]
    },
    {
      "cell_type": "code",
      "metadata": {
        "colab": {
          "base_uri": "https://localhost:8080/"
        },
        "id": "tNJ0btPtwqVr",
        "outputId": "eff7fc4f-c6a9-4e7b-d4a0-9b2542456fff"
      },
      "source": [
        "pi=\"3.141592\"\r\n",
        "pi=float(pi)\r\n",
        "print(pi,type(pi))"
      ],
      "execution_count": null,
      "outputs": [
        {
          "output_type": "stream",
          "text": [
            "3.141592 <class 'float'>\n"
          ],
          "name": "stdout"
        }
      ]
    },
    {
      "cell_type": "code",
      "metadata": {
        "colab": {
          "base_uri": "https://localhost:8080/"
        },
        "id": "TaUuzC2Wx2c7",
        "outputId": "1f58d9d3-6709-4ee7-85f1-6a311bbd7288"
      },
      "source": [
        "price_month=48584\r\n",
        "price_tot=price_month*36\r\n",
        "print(price_tot)"
      ],
      "execution_count": null,
      "outputs": [
        {
          "output_type": "stream",
          "text": [
            "1749024\n"
          ],
          "name": "stdout"
        }
      ]
    },
    {
      "cell_type": "code",
      "metadata": {
        "colab": {
          "base_uri": "https://localhost:8080/"
        },
        "id": "XBdG4WIfyC4V",
        "outputId": "2ed91fc1-3616-489d-ea59-d952b20b3a4c"
      },
      "source": [
        "A=input()\r\n",
        "B=input()\r\n",
        "result=int(A)+int(B)\r\n",
        "print(result)"
      ],
      "execution_count": null,
      "outputs": [
        {
          "output_type": "stream",
          "text": [
            "30\n",
            "10\n",
            "40\n"
          ],
          "name": "stdout"
        }
      ]
    },
    {
      "cell_type": "code",
      "metadata": {
        "colab": {
          "base_uri": "https://localhost:8080/"
        },
        "id": "BTgBnH0E2Y3v",
        "outputId": "285c9db0-e16e-4174-86d1-db1c663fb1b2"
      },
      "source": [
        "values= input()\r\n",
        "values= values.split()\r\n",
        "a = int(values[0])\r\n",
        "b = int(values[1])\r\n",
        "result = a + b\r\n",
        "print(result)"
      ],
      "execution_count": null,
      "outputs": [
        {
          "output_type": "stream",
          "text": [
            "30 10\n",
            "40\n"
          ],
          "name": "stdout"
        }
      ]
    },
    {
      "cell_type": "code",
      "metadata": {
        "colab": {
          "base_uri": "https://localhost:8080/"
        },
        "id": "1vnyvXwX3zfA",
        "outputId": "360e7f74-5bb8-4244-c687-12ddcd27016e"
      },
      "source": [
        "A=input()\r\n",
        "B=input()\r\n",
        "result=int(A)/int(B)\r\n",
        "print(result)"
      ],
      "execution_count": null,
      "outputs": [
        {
          "output_type": "stream",
          "text": [
            "30\n",
            "10\n",
            "3.0\n"
          ],
          "name": "stdout"
        }
      ]
    },
    {
      "cell_type": "code",
      "metadata": {
        "colab": {
          "base_uri": "https://localhost:8080/"
        },
        "id": "vs-bJ00A4IHD",
        "outputId": "ffe9f439-857e-484f-9ab6-0d9a19070c29"
      },
      "source": [
        "values = input()\r\n",
        "values = values.split()\r\n",
        "A=int(values[0])\r\n",
        "B=int(values[1])\r\n",
        "result=(A/B)\r\n",
        "print(result)"
      ],
      "execution_count": null,
      "outputs": [
        {
          "output_type": "stream",
          "text": [
            "30 10\n",
            "3.0\n"
          ],
          "name": "stdout"
        }
      ]
    },
    {
      "cell_type": "code",
      "metadata": {
        "colab": {
          "base_uri": "https://localhost:8080/"
        },
        "id": "Prc2Bl274p_C",
        "outputId": "432e71c2-3b6a-4ed3-e7df-097af5263a69"
      },
      "source": [
        "num=input()\r\n",
        "num=num.split()\r\n",
        "A=int(num[0])\r\n",
        "B=int(num[1])\r\n",
        "print(\"A+B:\",A+B,\"\\nA-B:\",A-B,\"\\nA*B:\",A*B,\"\\nA/B:\",A//B,\"\\nA%B:\",A%B )"
      ],
      "execution_count": null,
      "outputs": [
        {
          "output_type": "stream",
          "text": [
            "32 3\n",
            "A+B: 35 \n",
            "A-B: 29 \n",
            "A*B: 96 \n",
            "A/B: 10 \n",
            "A%B: 2\n"
          ],
          "name": "stdout"
        }
      ]
    },
    {
      "cell_type": "code",
      "metadata": {
        "colab": {
          "base_uri": "https://localhost:8080/"
        },
        "id": "GU-Y_gvM5yFt",
        "outputId": "b2cc2ec9-93ae-4b8e-a673-f7de233ac293"
      },
      "source": [
        "a='76.3'\r\n",
        "b=float(a)\r\n",
        "a=float(a)\r\n",
        "print(a+b)"
      ],
      "execution_count": null,
      "outputs": [
        {
          "output_type": "stream",
          "text": [
            "152.6\n"
          ],
          "name": "stdout"
        }
      ]
    },
    {
      "cell_type": "code",
      "metadata": {
        "colab": {
          "base_uri": "https://localhost:8080/"
        },
        "id": "hYO3j5pD-QMu",
        "outputId": "34beb8d0-a396-49e4-b801-f16c0f68e8d8"
      },
      "source": [
        "a='76.3'\r\n",
        "b=a\r\n",
        "print(a+b)"
      ],
      "execution_count": null,
      "outputs": [
        {
          "output_type": "stream",
          "text": [
            "76.376.3\n"
          ],
          "name": "stdout"
        }
      ]
    },
    {
      "cell_type": "code",
      "metadata": {
        "id": "vUXq9lHh-V27"
      },
      "source": [
        "# a='76.3'\r\n",
        "# b=float(a)\r\n",
        "# print(a+b)"
      ],
      "execution_count": null,
      "outputs": []
    },
    {
      "cell_type": "code",
      "metadata": {
        "colab": {
          "base_uri": "https://localhost:8080/"
        },
        "id": "zivFFz8t_Xc-",
        "outputId": "a75fa819-9c5d-45b4-a16b-a8c5e1350eff"
      },
      "source": [
        "s=\"Hello. Python \\n\"\r\n",
        "t=\"Hello 00p\\n\"\r\n",
        "r=s+t\r\n",
        "print(r)"
      ],
      "execution_count": null,
      "outputs": [
        {
          "output_type": "stream",
          "text": [
            "Hello. Python \n",
            "Hello 00p\n",
            "\n"
          ],
          "name": "stdout"
        }
      ]
    },
    {
      "cell_type": "code",
      "metadata": {
        "colab": {
          "base_uri": "https://localhost:8080/"
        },
        "id": "82MtrFZU_nLI",
        "outputId": "1d5bb9ec-2fbe-4e7b-8886-ea0ca9f0a09e"
      },
      "source": [
        " s=\"Hello. python!!\\n\"\r\n",
        " t=s*5\r\n",
        " print(t)"
      ],
      "execution_count": null,
      "outputs": [
        {
          "output_type": "stream",
          "text": [
            "Hello. python!!\n",
            "Hello. python!!\n",
            "Hello. python!!\n",
            "Hello. python!!\n",
            "Hello. python!!\n",
            "\n"
          ],
          "name": "stdout"
        }
      ]
    },
    {
      "cell_type": "code",
      "metadata": {
        "colab": {
          "base_uri": "https://localhost:8080/"
        },
        "id": "BHalmuXvA4bE",
        "outputId": "f543e45b-ade3-40c5-80ae-d41aceb43e23"
      },
      "source": [
        "#최초로 이익이 발생하는 판매량(>손익분기점)을 출력한다.\r\n",
        "#이익이 발생하지 않으면 -1을 출력한다.\r\n",
        "values=input()\r\n",
        "values=values.split()\r\n",
        "A=int(values[0])\r\n",
        "B=int(values[1])\r\n",
        "C=int(values[2])\r\n",
        "\r\n",
        "if (C-B)<=0:\r\n",
        "  x=-1\r\n",
        "else:\r\n",
        "  x=A//(C-B)\r\n",
        "  x+=1\r\n",
        "  print(x)\r\n"
      ],
      "execution_count": null,
      "outputs": [
        {
          "output_type": "stream",
          "text": [
            "1000 70 170\n",
            "11\n"
          ],
          "name": "stdout"
        }
      ]
    }
  ]
}