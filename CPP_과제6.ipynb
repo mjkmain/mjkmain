{
  "nbformat": 4,
  "nbformat_minor": 0,
  "metadata": {
    "colab": {
      "name": "CPP_과제6.ipynb",
      "provenance": [],
      "collapsed_sections": [],
      "include_colab_link": true
    },
    "kernelspec": {
      "name": "python3",
      "display_name": "Python 3"
    }
  },
  "cells": [
    {
      "cell_type": "markdown",
      "metadata": {
        "id": "view-in-github",
        "colab_type": "text"
      },
      "source": [
        "<a href=\"https://colab.research.google.com/github/mjkmain/mjkmain/blob/main/CPP_%EA%B3%BC%EC%A0%9C6.ipynb\" target=\"_parent\"><img src=\"https://colab.research.google.com/assets/colab-badge.svg\" alt=\"Open In Colab\"/></a>"
      ]
    },
    {
      "cell_type": "code",
      "metadata": {
        "id": "rV1GVflHEXn0",
        "colab": {
          "base_uri": "https://localhost:8080/"
        },
        "outputId": "2b892c95-03a2-4c1a-d88a-f94d43631c9d"
      },
      "source": [
        "# 문제 1. 여러분의 학번과 이름 문자열을 화면에 출력하는 print_student_info() 함수를 정의하라.\n",
        "\n",
        "# 정답 1.\n",
        "# 코드 작성: id, name 매개변수 사용하여 표준출력하는 함수\n",
        "def print_student_info(id, name):\n",
        "  print(id, name)\n",
        "id = '20200000'  # 수강생분의 학번 입력해주세요\n",
        "name = '홍길동'  # 수강생분의 이름 입력해주세요\n",
        "print_student_info(id, name)"
      ],
      "execution_count": null,
      "outputs": [
        {
          "output_type": "stream",
          "text": [
            "20200000 홍길동\n"
          ],
          "name": "stdout"
        }
      ]
    },
    {
      "cell_type": "code",
      "metadata": {
        "id": "Fuqb_cC-EQlv",
        "colab": {
          "base_uri": "https://localhost:8080/"
        },
        "outputId": "69dbc5c1-38ae-4065-95d9-c0d56e0cd74c"
      },
      "source": [
        "# 문제 2. 문제 1에서 정의한 print_student_info 함수를 10번 호출하라.\n",
        "\n",
        "# 정답 2.\n",
        "def print_student_info(id, name):\n",
        "  print(id, name)\n",
        "id = '20181796'\n",
        "name = '김민준'\n",
        "i = 0\n",
        "while i<10 :\n",
        "  print_student_info(id, name)\n",
        "  i+=1"
      ],
      "execution_count": null,
      "outputs": [
        {
          "output_type": "stream",
          "text": [
            "20181796 김민준\n",
            "20181796 김민준\n",
            "20181796 김민준\n",
            "20181796 김민준\n",
            "20181796 김민준\n",
            "20181796 김민준\n",
            "20181796 김민준\n",
            "20181796 김민준\n",
            "20181796 김민준\n",
            "20181796 김민준\n"
          ],
          "name": "stdout"
        }
      ]
    },
    {
      "cell_type": "code",
      "metadata": {
        "id": "ZuRraohFFxfm",
        "colab": {
          "base_uri": "https://localhost:8080/"
        },
        "outputId": "27f825db-6a71-4902-d89b-d9c558748620"
      },
      "source": [
        "# 문제 3. 아래의 에러가 발생하는 원인을 찾고 코드를 수정하여 문제를 해결하라.\n",
        "\n",
        "def hello():\n",
        "  print(\"Hi\")\n",
        "hello()\n",
        "# 정답 3.\n"
      ],
      "execution_count": null,
      "outputs": [
        {
          "output_type": "stream",
          "text": [
            "Hi\n"
          ],
          "name": "stdout"
        }
      ]
    },
    {
      "cell_type": "code",
      "metadata": {
        "id": "g6r46qL8F9D6",
        "colab": {
          "base_uri": "https://localhost:8080/"
        },
        "outputId": "24437627-e0fa-46d0-b8f6-44902fa996cb"
      },
      "source": [
        "# 문제 4. 아래 코드의 실행 결과를 예측하여 출력하라.\n",
        "print(\"A\")\n",
        "\n",
        "def message():\n",
        "    print(\"B\")\n",
        "\n",
        "print(\"C\")\n",
        "message()\n",
        "\n",
        "# 정답 4.\n",
        "# 코드 작성: 아래 print 함수에 예측한 결과를 인수로 넣기\n",
        "print(\"A\\nC\\nB\")"
      ],
      "execution_count": null,
      "outputs": [
        {
          "output_type": "stream",
          "text": [
            "A\n",
            "C\n",
            "B\n",
            "A\n",
            "C\n",
            "B\n"
          ],
          "name": "stdout"
        }
      ]
    },
    {
      "cell_type": "code",
      "metadata": {
        "id": "TNrELlmVGNJa",
        "colab": {
          "base_uri": "https://localhost:8080/"
        },
        "outputId": "e49d83c7-869e-488a-88a1-25ed54234f42"
      },
      "source": [
        "# 문제 5. 아래 코드의 실행 결과를 예측하여 출력하라.\n",
        "print(\"A\")\n",
        "def message1() :\n",
        "    print(\"B\")\n",
        "print(\"C\")\n",
        "def message2() :\n",
        "    print(\"D\")\n",
        "message1()\n",
        "print(\"E\")\n",
        "message2()\n",
        "\n",
        "#정답 5.\n",
        "# 코드 작성: 아래 print 함수에 예측한 결과를 인수로 넣기\n",
        "print(\"A\\nC\\nB\\nE\\nD\")"
      ],
      "execution_count": null,
      "outputs": [
        {
          "output_type": "stream",
          "text": [
            "A\n",
            "C\n",
            "B\n",
            "E\n",
            "D\n",
            "A\n",
            "C\n",
            "B\n",
            "E\n",
            "D\n"
          ],
          "name": "stdout"
        }
      ]
    },
    {
      "cell_type": "code",
      "metadata": {
        "id": "uxW8swn9GYnf",
        "colab": {
          "base_uri": "https://localhost:8080/"
        },
        "outputId": "703f52d7-c702-4662-e3af-ff0bda39bba6"
      },
      "source": [
        "# 문제 6. 아래와 같은 에러가 발생하는 원인을 찾고 코드를 수정하여 문제를 해결하라.\n",
        "# 출력값 예시: 안녕3\n",
        "def 함수(a, b) :\n",
        "    print(a + b)\n",
        "\n",
        "함수(\"안녕\", str('3'))\n",
        "\n",
        "# 정답 6.\n"
      ],
      "execution_count": null,
      "outputs": [
        {
          "output_type": "stream",
          "text": [
            "안녕3\n"
          ],
          "name": "stdout"
        }
      ]
    },
    {
      "cell_type": "code",
      "metadata": {
        "id": "50tB2EFRGihu",
        "colab": {
          "base_uri": "https://localhost:8080/"
        },
        "outputId": "ea4f07e8-a01c-4a2f-db29-1cc69ac8b6e7"
      },
      "source": [
        "# 문제 7. 하나의 문자를 입력받아 문자열 끝에 \":D\" 스마일 문자열을 이어 붙여 출력하는\n",
        "# print_with_smile 함수를 정의하라.\n",
        "# 출력값 예시: (^ ^):D\n",
        "\n",
        "# 정답 7.\n",
        "# 코드 작성: print_with_smile 함수\n",
        "def print_with_smile(x):\n",
        "  print(x + \":D\")\n",
        "print_with_smile(\"(^ ^)\")"
      ],
      "execution_count": null,
      "outputs": [
        {
          "output_type": "stream",
          "text": [
            "(^ ^):D\n"
          ],
          "name": "stdout"
        }
      ]
    },
    {
      "cell_type": "code",
      "metadata": {
        "id": "94Bv-WGbGpAW",
        "colab": {
          "base_uri": "https://localhost:8080/"
        },
        "outputId": "c9b3641a-0ff5-4847-b539-fb7be7bd7fd0"
      },
      "source": [
        "# 문제 8. 입력된 문자열을 역순으로 출력하는 print_reverse 함수를 정의하라.\n",
        "\n",
        "# 정답 8.\n",
        "# 코드 작성: print_reverse 함수\n",
        "def print_reverse(x):\n",
        "  print(x[::-1])\n",
        "print_reverse(\"!!해요필 이썬이파 니으짧 무너 은생인\")\n",
        "\n"
      ],
      "execution_count": null,
      "outputs": [
        {
          "output_type": "stream",
          "text": [
            "인생은 너무 짧으니 파이썬이 필요해!!\n"
          ],
          "name": "stdout"
        }
      ]
    },
    {
      "cell_type": "code",
      "metadata": {
        "id": "TsIEgTVbG1cl",
        "colab": {
          "base_uri": "https://localhost:8080/"
        },
        "outputId": "abb47945-6e17-453d-8a78-2d196ff347d7"
      },
      "source": [
        "# 문제 9. 성적 리스트를 입력받아 평균을 출력하는 print_score 함수를 정의하라.\n",
        "# sum(): 객체의 숫자 합을 반환하는 내장함수\n",
        "# len(): 객체의 길이를 반환하는 내장함수\n",
        "\n",
        "# 정답 9.\n",
        "# 코드 작성: print_score 함수\n",
        "def print_score(x):\n",
        "  print(\"평균:\",sum(x)/len(x))\n",
        "print_score([1, 2, 3])"
      ],
      "execution_count": null,
      "outputs": [
        {
          "output_type": "stream",
          "text": [
            "평균: 2.0\n"
          ],
          "name": "stdout"
        }
      ]
    },
    {
      "cell_type": "code",
      "metadata": {
        "id": "WtuIJ2D4HFse",
        "colab": {
          "base_uri": "https://localhost:8080/"
        },
        "outputId": "9162da98-fc16-4c5f-eaa4-72e7b612a989"
      },
      "source": [
        "# 문제 10. 문제 9의 print_score 함수를 키워드 인수 방식(매개변수 지정, [1, 2, 3] 대입)으로 호출하라.\n",
        "def print_score(x):\n",
        "  print(\"평균:\",sum(x)/len(x))\n",
        "print_score(x = [1, 2, 3])\n",
        "# 정답 10."
      ],
      "execution_count": null,
      "outputs": [
        {
          "output_type": "stream",
          "text": [
            "평균: 2.0\n"
          ],
          "name": "stdout"
        }
      ]
    },
    {
      "cell_type": "code",
      "metadata": {
        "id": "Kv-c7MKDHPfh",
        "colab": {
          "base_uri": "https://localhost:8080/"
        },
        "outputId": "1642a566-e41b-4176-e6ed-8362c386c905"
      },
      "source": [
        "# 문제 11. 문제 9의 print_score 함수의 매개변수 초기값을 [1, 1, 1]로 설정하고 인수 없이 호출하라.\n",
        "\n",
        "# 정답 11.\n",
        "# 코드 작성: print_score 함수\n",
        "def print_score(x = [1, 1, 1]):\n",
        "  print(sum(x)/len(x))\n",
        "print_score()"
      ],
      "execution_count": null,
      "outputs": [
        {
          "output_type": "stream",
          "text": [
            "1.0\n"
          ],
          "name": "stdout"
        }
      ]
    },
    {
      "cell_type": "code",
      "metadata": {
        "id": "C6Q3csBFHkgu",
        "colab": {
          "base_uri": "https://localhost:8080/"
        },
        "outputId": "cd9bc9eb-de79-4da9-8578-23d152e372e7"
      },
      "source": [
        "# 문제 12. 아래 코드의 실행 결과를 예측하여 출력하라.\n",
        "a = 1\n",
        "def vartest(a):\n",
        "  a = a + 1\n",
        "\n",
        "vartest(a)\n",
        "print(a)\n",
        "\n",
        "# 정답 12.\n",
        "# 코드 작성: print 함수의 인수에 예측 결과를 반영\n",
        "print(\"1\")"
      ],
      "execution_count": null,
      "outputs": [
        {
          "output_type": "stream",
          "text": [
            "1\n",
            "1\n"
          ],
          "name": "stdout"
        }
      ]
    },
    {
      "cell_type": "code",
      "metadata": {
        "id": "J5VtKKbvHynh",
        "colab": {
          "base_uri": "https://localhost:8080/"
        },
        "outputId": "a3e97a11-f95a-4112-f122-2f2b5185148f"
      },
      "source": [
        "# 문제 13. 아래 코드의 실행 결과를 예측하여 출력하라.\n",
        "a = [1]\n",
        "def vartest(a):\n",
        "  a.append(2)\n",
        "\n",
        "vartest(a)\n",
        "print(a)\n",
        "\n",
        "# 정답 13.\n",
        "# 코드 작성: print 함수의 인수에 예측 결과를 반영\n",
        "print(\"[1, 2]\")"
      ],
      "execution_count": null,
      "outputs": [
        {
          "output_type": "stream",
          "text": [
            "[1, 2]\n",
            "[1, 2]\n"
          ],
          "name": "stdout"
        }
      ]
    },
    {
      "cell_type": "code",
      "metadata": {
        "id": "GLALcROlH3lO",
        "colab": {
          "base_uri": "https://localhost:8080/"
        },
        "outputId": "60c7e3ff-eaac-44a4-8cac-54eb0a580999"
      },
      "source": [
        "# 문제 14. 아래 코드의 실행 결과를 예측하여 출력하라.\n",
        "a = 1\n",
        "def vartest():\n",
        "  global a\n",
        "  a = a + 1\n",
        "\n",
        "vartest()\n",
        "print(a)\n",
        "\n",
        "# 정답 14.\n",
        "# 코드 작성: print 함수의 인수에 예측 결과를 반영\n",
        "print(2)"
      ],
      "execution_count": null,
      "outputs": [
        {
          "output_type": "stream",
          "text": [
            "2\n",
            "2\n"
          ],
          "name": "stdout"
        }
      ]
    },
    {
      "cell_type": "code",
      "metadata": {
        "id": "VR0TaEKCIVfd",
        "colab": {
          "base_uri": "https://localhost:8080/"
        },
        "outputId": "92dc33ef-26bf-454b-a445-13c00777a326"
      },
      "source": [
        "# 문제 15. 아래 코드의 실행 결과를 예측하여 출력하라.\n",
        "def print_student_info(id, name):\n",
        "  print(id, name)\n",
        "\n",
        "id = '20200000'\n",
        "name = '홍길동'\n",
        "print_student_info(name, id)\n",
        "\n",
        "# 정답 15.\n",
        "# 코드 작성: print 함수의 인수에 예측 결과를 반영\n"
      ],
      "execution_count": null,
      "outputs": [
        {
          "output_type": "stream",
          "text": [
            "홍길동 20200000\n"
          ],
          "name": "stdout"
        }
      ]
    },
    {
      "cell_type": "code",
      "metadata": {
        "id": "FPLJdbcDIfLh",
        "colab": {
          "base_uri": "https://localhost:8080/"
        },
        "outputId": "6f188bc3-aee9-46ec-bec8-a6c58724418d"
      },
      "source": [
        "# 문제 16. 아래 코드의 실행 결과를 예측하여 출력하라.\n",
        "def print_student_info(id, name):\n",
        "  print(id, name)\n",
        "\n",
        "id = '20200000'\n",
        "name = '홍길동'\n",
        "print_student_info(name=name, id=id)\n",
        "\n",
        "# 정답 16.\n",
        "# 코드 작성: print 함수의 인수에 예측 결과를 반영\n"
      ],
      "execution_count": null,
      "outputs": [
        {
          "output_type": "stream",
          "text": [
            "20200000 홍길동\n"
          ],
          "name": "stdout"
        }
      ]
    },
    {
      "cell_type": "code",
      "metadata": {
        "id": "NpqVoc4YIzTJ",
        "colab": {
          "base_uri": "https://localhost:8080/"
        },
        "outputId": "158af201-3254-47d6-ab0e-1e3dd19e4488"
      },
      "source": [
        "# 문제 17. 아래 코드의 실행 결과를 예측하여 출력하라.\n",
        "def print_student_info(*args):\n",
        "  print(args)\n",
        "\n",
        "id = '20200000'\n",
        "name = '홍길동'\n",
        "print_student_info(name, id)\n",
        "\n",
        "# 정답 17.\n",
        "# 코드 작성: print 함수의 인수에 예측 결과를 반영\n"
      ],
      "execution_count": null,
      "outputs": [
        {
          "output_type": "stream",
          "text": [
            "('홍길동', '20200000')\n"
          ],
          "name": "stdout"
        }
      ]
    },
    {
      "cell_type": "code",
      "metadata": {
        "id": "wkU4PjD-I9gJ",
        "colab": {
          "base_uri": "https://localhost:8080/"
        },
        "outputId": "24e6d3c1-caee-44fb-85be-197051704a85"
      },
      "source": [
        "# 문제 18. 아래 코드의 오류 원인을 찾고 수정하여 출력값 예시처럼 출력하라.\n",
        "# 출력값 예시: 홍길동 20200000\n",
        "def print_student_info(*args):\n",
        "  a, b = args\n",
        "  print(a, b)\n",
        "\n",
        "id = '20200000'\n",
        "name = '홍길동'\n",
        "print_student_info(name, id)\n",
        "\n",
        "# 정답 18.\n"
      ],
      "execution_count": null,
      "outputs": [
        {
          "output_type": "stream",
          "text": [
            "홍길동 20200000\n"
          ],
          "name": "stdout"
        }
      ]
    },
    {
      "cell_type": "code",
      "metadata": {
        "id": "-JT-BiPrJEDC"
      },
      "source": [
        "# 문제 19. 아래 코드의 실행 결과를 예측하여 출력하라.\n",
        "def print_student_info(name='임꺽정', *args, **kwargs):\n",
        "  print(name, args, kwargs)\n",
        "\n",
        "id = '20200000'\n",
        "name = '홍길동'\n",
        "city = '대전'\n",
        "math_score = '100'\n",
        "science_score = '90'\n",
        "print_student_info(name, id, city, math_score=math_score,\n",
        "                   science_score=science_score)\n",
        "\n",
        "# 정답 19.\n",
        "# 코드 작성: 아래 print 함수의 인수에 예측 결과를 반영\n"
      ],
      "execution_count": null,
      "outputs": []
    },
    {
      "cell_type": "code",
      "metadata": {
        "id": "Vsv1nayJmus9"
      },
      "source": [
        ""
      ],
      "execution_count": null,
      "outputs": []
    }
  ]
}