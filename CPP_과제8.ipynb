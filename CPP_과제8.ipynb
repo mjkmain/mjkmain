{
  "nbformat": 4,
  "nbformat_minor": 0,
  "metadata": {
    "colab": {
      "name": "CPP_과제8.ipynb",
      "provenance": [],
      "collapsed_sections": [],
      "include_colab_link": true
    },
    "kernelspec": {
      "name": "python3",
      "display_name": "Python 3"
    }
  },
  "cells": [
    {
      "cell_type": "markdown",
      "metadata": {
        "id": "view-in-github",
        "colab_type": "text"
      },
      "source": [
        "<a href=\"https://colab.research.google.com/github/mjkmain/mjkmain/blob/main/CPP_%EA%B3%BC%EC%A0%9C8.ipynb\" target=\"_parent\"><img src=\"https://colab.research.google.com/assets/colab-badge.svg\" alt=\"Open In Colab\"/></a>"
      ]
    },
    {
      "cell_type": "markdown",
      "metadata": {
        "id": "rxEjkcMEm4ni"
      },
      "source": [
        "# 수강생 분의 이름과 학번을 입력해주세요."
      ]
    },
    {
      "cell_type": "code",
      "metadata": {
        "id": "rV1GVflHEXn0"
      },
      "source": [
        "id = '20200000'  # 수강생분의 학번 입력해주세요.\n",
        "name = '홍길동'  # 수강생분의 이름 입력해주세요.\n",
        "print(id, name)"
      ],
      "execution_count": null,
      "outputs": []
    },
    {
      "cell_type": "code",
      "metadata": {
        "id": "vYxrwvOqWpUs",
        "colab": {
          "base_uri": "https://localhost:8080/"
        },
        "outputId": "f3c602f6-fbe7-4eff-b934-f75051e1aceb"
      },
      "source": [
        "# 구글 드라이브 사용 권한 설정\n",
        "from google.colab import drive\n",
        "drive.mount('/gdrive')"
      ],
      "execution_count": null,
      "outputs": [
        {
          "output_type": "stream",
          "text": [
            "Mounted at /gdrive\n"
          ],
          "name": "stdout"
        }
      ]
    },
    {
      "cell_type": "code",
      "metadata": {
        "id": "TFSzx-s8jtU9"
      },
      "source": [
        "# 과제 파일 저장한 폴더 위치 설정 (폴더 위치에 맞춰서 변경할 것)\n",
        "import os\n",
        "colab_path = \"/gdrive/My Drive/Colab Notebooks/Python_과제/8주차 21.01.13\""
      ],
      "execution_count": null,
      "outputs": []
    },
    {
      "cell_type": "markdown",
      "metadata": {
        "id": "neORHWn6m9Or"
      },
      "source": [
        "# 실습 내용"
      ]
    },
    {
      "cell_type": "code",
      "metadata": {
        "id": "BJYiMeRQJ8DN",
        "colab": {
          "base_uri": "https://localhost:8080/"
        },
        "outputId": "571e0b6d-e757-4bb0-952a-1ecf334e4c16"
      },
      "source": [
        "# 문제 1. 난수 생성 모듈 random을 불러오고 0~100 사이의 정수 난수 1개를 생성하라.\n",
        "\n",
        "# 정답 1.\n",
        "import random\n",
        "print(random.randint(0,100))"
      ],
      "execution_count": null,
      "outputs": [
        {
          "output_type": "stream",
          "text": [
            "21\n"
          ],
          "name": "stdout"
        }
      ]
    },
    {
      "cell_type": "code",
      "metadata": {
        "id": "Fuqb_cC-EQlv",
        "colab": {
          "base_uri": "https://localhost:8080/"
        },
        "outputId": "48c2cd80-e400-4ec9-ba8d-11ae654ab0a9"
      },
      "source": [
        "# 문제 2. 난수 생성 모듈 random을 불러오고 0과 1 사이의 난수를 생성하라.\n",
        "\n",
        "# 정답 2.\n",
        "import random\n",
        "print(random.random())"
      ],
      "execution_count": null,
      "outputs": [
        {
          "output_type": "stream",
          "text": [
            "0.5583326059604901\n"
          ],
          "name": "stdout"
        }
      ]
    },
    {
      "cell_type": "code",
      "metadata": {
        "id": "ZuRraohFFxfm",
        "colab": {
          "base_uri": "https://localhost:8080/"
        },
        "outputId": "8d0d8940-ef81-43cf-fb0b-20c06abc3221"
      },
      "source": [
        "# 문제 3. 시간 모듈 time을 불러오고 현재 시각을 출력하라.\n",
        "\n",
        "# 정답 3.\n",
        "import time\n",
        "print(time.localtime())"
      ],
      "execution_count": null,
      "outputs": [
        {
          "output_type": "stream",
          "text": [
            "time.struct_time(tm_year=2021, tm_mon=2, tm_mday=2, tm_hour=8, tm_min=50, tm_sec=13, tm_wday=1, tm_yday=33, tm_isdst=0)\n"
          ],
          "name": "stdout"
        }
      ]
    },
    {
      "cell_type": "code",
      "metadata": {
        "id": "g6r46qL8F9D6",
        "colab": {
          "base_uri": "https://localhost:8080/"
        },
        "outputId": "ed923e34-c740-449c-c65a-0134af0d4043"
      },
      "source": [
        "# 문제 4. 웹 주소 정보 모듈 urllib을 불러오고 \"https://www.naver.com\" 정보를 불러오시오.\n",
        "\n",
        "# 정답 4.\n",
        "from urllib import request\n",
        "response = request.urlopen(\"https://mjkmain.github.io\")\n",
        "print(response.read())"
      ],
      "execution_count": null,
      "outputs": [
        {
          "output_type": "stream",
          "text": [
            "\n"
          ],
          "name": "stdout"
        }
      ]
    },
    {
      "cell_type": "code",
      "metadata": {
        "id": "TNrELlmVGNJa",
        "colab": {
          "base_uri": "https://localhost:8080/"
        },
        "outputId": "21260439-afc8-47c6-fcf0-b418cc20d137"
      },
      "source": [
        "# 문제 5. readline 함수 이용하여 \"newfile.txt\" 파일 읽어서 첫 번째 줄 출력하시오.\n",
        "# 파일 경로 설정 코드 예제: os.path.join(colab_path, \"newfile.txt\")\n",
        "\n",
        "# 정답 5.\n",
        "f = open(os.path.join(colab_path,\"newfile.txt\"),'r') \n",
        "line = f.readline()\n",
        "print(line)\n",
        "f.close()"
      ],
      "execution_count": null,
      "outputs": [
        {
          "output_type": "stream",
          "text": [
            "1번째 줄입니다.\n",
            "\n"
          ],
          "name": "stdout"
        }
      ]
    },
    {
      "cell_type": "code",
      "metadata": {
        "id": "uxW8swn9GYnf",
        "colab": {
          "base_uri": "https://localhost:8080/"
        },
        "outputId": "d738ffda-e905-4d1d-b8d9-b7d2c4611a4d"
      },
      "source": [
        "# 문제 6. readline 함수 이용하여 \"newfile.txt\" 파일 읽어서 모든 줄 화면 출력하시오.\n",
        "# 파일 경로 설정 코드 예제: os.path.join(colab_path, \"newfile.txt\")\n",
        "from google.colab import drive\n",
        "drive.mount('/gdrive')\n",
        "\n",
        "import os\n",
        "colab_path = \"/gdrive/My Drive/Colab Notebooks/Python_과제/8주차 21.01.13\"\n",
        "\n",
        "f = open(os.path.join(colab_path,\"newfile.txt\"),'r')\n",
        "\n",
        "while True:  \n",
        "  line = f.readline()\n",
        "  if not line:\n",
        "    break\n",
        "  \n",
        "  print(line)\n",
        "f.close()"
      ],
      "execution_count": null,
      "outputs": [
        {
          "output_type": "stream",
          "text": [
            "Drive already mounted at /gdrive; to attempt to forcibly remount, call drive.mount(\"/gdrive\", force_remount=True).\n",
            "1번째 줄입니다.\n",
            "\n",
            "2번째 줄입니다.\n",
            "\n",
            "3번째 줄입니다.\n",
            "\n",
            "4번째 줄입니다.\n",
            "\n",
            "5번째 줄입니다.\n",
            "\n",
            "6번째 줄입니다.\n",
            "\n",
            "7번째 줄입니다.\n",
            "\n",
            "8번째 줄입니다.\n",
            "\n",
            "9번째 줄입니다.\n",
            "\n",
            "10번째 줄입니다.\n"
          ],
          "name": "stdout"
        }
      ]
    },
    {
      "cell_type": "code",
      "metadata": {
        "id": "50tB2EFRGihu",
        "colab": {
          "base_uri": "https://localhost:8080/"
        },
        "outputId": "96bcffde-b852-4781-ecf0-bdff898b863b"
      },
      "source": [
        "# 문제 7. read 함수 이용하여 \"newfile.txt\" 파일 읽어서 모든 줄 화면 출력하시오.\n",
        "# 파일 경로 설정 코드 예제: os.path.join(colab_path, \"newfile.txt\")\n",
        "\n",
        "# 정답 7.\n",
        "f = open(os.path.join(colab_path, \"newfile.txt\"),'r')\n",
        "print(f.read())\n",
        "f.close()"
      ],
      "execution_count": null,
      "outputs": [
        {
          "output_type": "stream",
          "text": [
            "1번째 줄입니다.\n",
            "2번째 줄입니다.\n",
            "3번째 줄입니다.\n",
            "4번째 줄입니다.\n",
            "5번째 줄입니다.\n",
            "6번째 줄입니다.\n",
            "7번째 줄입니다.\n",
            "8번째 줄입니다.\n",
            "9번째 줄입니다.\n",
            "10번째 줄입니다.\n"
          ],
          "name": "stdout"
        }
      ]
    },
    {
      "cell_type": "code",
      "metadata": {
        "id": "94Bv-WGbGpAW",
        "colab": {
          "base_uri": "https://localhost:8080/"
        },
        "outputId": "b25eabf7-ba76-47d5-e374-6765d87e2562"
      },
      "source": [
        "# 문제 8. write 함수 이용하여 \"foo.txt\" 파일에 \"Life is too short, you need python\" 출력하시오.\n",
        "# 파일 경로 설정 코드 예제: os.path.join(colab_path, \"foo.txt\")\n",
        "\n",
        "# 정답 8.\n",
        "f = open(os.path.join(colab_path, \"foo.txt\"),'w')\n",
        "f.write(\"Life is too short, you need Python\")\n",
        "f.close()\n",
        "\n",
        "os.path.exists(os.path.join(colab_path, \"foo.txt\"))"
      ],
      "execution_count": null,
      "outputs": [
        {
          "output_type": "execute_result",
          "data": {
            "text/plain": [
              "True"
            ]
          },
          "metadata": {
            "tags": []
          },
          "execution_count": 78
        }
      ]
    },
    {
      "cell_type": "code",
      "metadata": {
        "id": "TsIEgTVbG1cl",
        "colab": {
          "base_uri": "https://localhost:8080/"
        },
        "outputId": "935450af-e1dd-4f96-dd33-1c3ac9ea0274"
      },
      "source": [
        "# 문제 9. with 문 이용하여 문제 8을 수행하시오.\n",
        "# 파일 경로 설정 코드 예제: os.path.join(colab_path, \"foo.txt\")\n",
        "\n",
        "# 정답 9.\n",
        "with open(os.path.join(colab_path, \"foo.txt\"),'w')as f:\n",
        "  f.write(\"LLife is too short, you need python\")\n",
        "os.path.exists(os.path.join(colab_path, \"foo.txt\"))"
      ],
      "execution_count": null,
      "outputs": [
        {
          "output_type": "execute_result",
          "data": {
            "text/plain": [
              "True"
            ]
          },
          "metadata": {
            "tags": []
          },
          "execution_count": 81
        }
      ]
    },
    {
      "cell_type": "code",
      "metadata": {
        "id": "WtuIJ2D4HFse",
        "colab": {
          "base_uri": "https://localhost:8080/"
        },
        "outputId": "cc5ab9e7-1233-45b0-fcac-4b92f08195db"
      },
      "source": [
        "# 문제 10. os 모듈 불러와서 \"log\" 디렉토리(폴더) 생성하시오.\n",
        "# 파일 경로 설정 코드 예제: os.path.join(colab_path, \"log\")\n",
        "import os\n",
        "\n",
        "if os.path.isdir(os.path.join(colab_path, \"log\")):\n",
        "  os.rmdir(os.path.join(colab_path, \"log\"))\n",
        "\n",
        "# 정답 10.\n",
        "os.mkdir(os.path.join(colab_path, \"log\"))\n",
        "\n",
        "os.path.exists(os.path.join(colab_path, \"log\"))\n"
      ],
      "execution_count": null,
      "outputs": [
        {
          "output_type": "execute_result",
          "data": {
            "text/plain": [
              "True"
            ]
          },
          "metadata": {
            "tags": []
          },
          "execution_count": 83
        }
      ]
    },
    {
      "cell_type": "code",
      "metadata": {
        "id": "sWZyYJQcrGcJ",
        "colab": {
          "base_uri": "https://localhost:8080/"
        },
        "outputId": "c344c0ae-2fae-43a4-f136-3436920a7f1d"
      },
      "source": [
        "# 문제 11. pickle 모듈 불러와서 test 객체를 바이너리 파일 출력하시오.\n",
        "# 출력할 파일명: \"list.pickle\"\n",
        "# 파일 경로 설정 코드 예제: os.path.join(colab_path, \"list.pickle\")\n",
        "test = [1, 2, 3, 4, 5]\n",
        "\n",
        "# 정답 11.\n",
        "import pickle\n",
        "with open(os.path.join(colab_path, \"list.pickle\"),'wb') as f:\n",
        "   pickle.dump(test, f)\n",
        "\n",
        "os.path.exists(os.path.join(colab_path, \"list.pickle\"))"
      ],
      "execution_count": null,
      "outputs": [
        {
          "output_type": "execute_result",
          "data": {
            "text/plain": [
              "True"
            ]
          },
          "metadata": {
            "tags": []
          },
          "execution_count": 84
        }
      ]
    },
    {
      "cell_type": "code",
      "metadata": {
        "id": "x0U_Y6scf5xF",
        "colab": {
          "base_uri": "https://localhost:8080/"
        },
        "outputId": "728847ef-f783-4cd0-d1fe-a1d38720294e"
      },
      "source": [
        "# 문제 12. pickle 모듈 불러와서 문제 11에서 생성한 파일을 읽어서 test 객체를 생성하시오.\n",
        "# 읽어올 파일명: \"list.pickle\"\n",
        "# 파일 경로 설정 코드 예제: os.path.join(colab_path, \"list.pickle\")\n",
        "\n",
        "# 정답 12.\n",
        "import pickle\n",
        "with open(os.path.join(colab_path, \"list.pickle\"),'rb') as f:\n",
        "  test = pickle.load(f)\n",
        "# 실행 구문(아래 코드를 수정하지 마시오.)\n",
        "print(test)"
      ],
      "execution_count": null,
      "outputs": [
        {
          "output_type": "stream",
          "text": [
            "[1, 2, 3, 4, 5]\n"
          ],
          "name": "stdout"
        }
      ]
    }
  ]
}