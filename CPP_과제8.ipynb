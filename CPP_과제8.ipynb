{
  "nbformat": 4,
  "nbformat_minor": 0,
  "metadata": {
    "colab": {
      "name": "CPP_과제8.ipynb",
      "provenance": [],
      "collapsed_sections": [],
      "include_colab_link": true
    },
    "kernelspec": {
      "name": "python3",
      "display_name": "Python 3"
    }
  },
  "cells": [
    {
      "cell_type": "markdown",
      "metadata": {
        "id": "view-in-github",
        "colab_type": "text"
      },
      "source": [
        "<a href=\"https://colab.research.google.com/github/mjkmain/mjkmain/blob/main/CPP_%EA%B3%BC%EC%A0%9C8.ipynb\" target=\"_parent\"><img src=\"https://colab.research.google.com/assets/colab-badge.svg\" alt=\"Open In Colab\"/></a>"
      ]
    },
    {
      "cell_type": "markdown",
      "metadata": {
        "id": "rxEjkcMEm4ni"
      },
      "source": [
        "# 수강생 분의 이름과 학번을 입력해주세요."
      ]
    },
    {
      "cell_type": "code",
      "metadata": {
        "id": "rV1GVflHEXn0"
      },
      "source": [
        "id = '20200000'  # 수강생분의 학번 입력해주세요.\n",
        "name = '홍길동'  # 수강생분의 이름 입력해주세요.\n",
        "print(id, name)"
      ],
      "execution_count": null,
      "outputs": []
    },
    {
      "cell_type": "code",
      "metadata": {
        "id": "vYxrwvOqWpUs"
      },
      "source": [
        "# 구글 드라이브 사용 권한 설정\n",
        "from google.colab import drive\n",
        "drive.mount('/gdrive')"
      ],
      "execution_count": null,
      "outputs": []
    },
    {
      "cell_type": "code",
      "metadata": {
        "id": "TFSzx-s8jtU9"
      },
      "source": [
        "# 과제 파일 저장한 폴더 위치 설정 (폴더 위치에 맞춰서 변경할 것)\n",
        "import os\n",
        "colab_path = \"/gdrive/My Drive/Colab Notebooks\""
      ],
      "execution_count": null,
      "outputs": []
    },
    {
      "cell_type": "markdown",
      "metadata": {
        "id": "neORHWn6m9Or"
      },
      "source": [
        "# 실습 내용"
      ]
    },
    {
      "cell_type": "code",
      "metadata": {
        "id": "BJYiMeRQJ8DN"
      },
      "source": [
        "# 문제 1. 난수 생성 모듈 random을 불러오고 0~100 사이의 정수 난수 1개를 생성하라.\n",
        "\n",
        "# 정답 1.\n"
      ],
      "execution_count": null,
      "outputs": []
    },
    {
      "cell_type": "code",
      "metadata": {
        "id": "Fuqb_cC-EQlv"
      },
      "source": [
        "# 문제 2. 난수 생성 모듈 random을 불러오고 0과 1 사이의 난수를 생성하라.\n",
        "\n",
        "# 정답 2.\n"
      ],
      "execution_count": null,
      "outputs": []
    },
    {
      "cell_type": "code",
      "metadata": {
        "id": "ZuRraohFFxfm"
      },
      "source": [
        "# 문제 3. 시간 모듈 time을 불러오고 현재 시각을 출력하라.\n",
        "\n",
        "# 정답 3.\n"
      ],
      "execution_count": null,
      "outputs": []
    },
    {
      "cell_type": "code",
      "metadata": {
        "id": "g6r46qL8F9D6"
      },
      "source": [
        "# 문제 4. 웹 주소 정보 모듈 urllib을 불러오고 \"https://www.naver.com\" 정보를 불러오시오.\n",
        "\n",
        "# 정답 4.\n"
      ],
      "execution_count": null,
      "outputs": []
    },
    {
      "cell_type": "code",
      "metadata": {
        "id": "TNrELlmVGNJa"
      },
      "source": [
        "# 문제 5. readline 함수 이용하여 \"newfile.txt\" 파일 읽어서 첫 번째 줄 출력하시오.\n",
        "# 파일 경로 설정 코드 예제: os.path.join(colab_path, \"newfile.txt\")\n",
        "\n",
        "# 정답 5.\n"
      ],
      "execution_count": null,
      "outputs": []
    },
    {
      "cell_type": "code",
      "metadata": {
        "id": "uxW8swn9GYnf"
      },
      "source": [
        "# 문제 6. readline 함수 이용하여 \"newfile.txt\" 파일 읽어서 모든 줄 화면 출력하시오.\n",
        "# 파일 경로 설정 코드 예제: os.path.join(colab_path, \"newfile.txt\")\n",
        "\n",
        "# 정답 6.\n"
      ],
      "execution_count": null,
      "outputs": []
    },
    {
      "cell_type": "code",
      "metadata": {
        "id": "50tB2EFRGihu"
      },
      "source": [
        "# 문제 7. read 함수 이용하여 \"newfile.txt\" 파일 읽어서 모든 줄 화면 출력하시오.\n",
        "# 파일 경로 설정 코드 예제: os.path.join(colab_path, \"newfile.txt\")\n",
        "\n",
        "# 정답 7.\n"
      ],
      "execution_count": null,
      "outputs": []
    },
    {
      "cell_type": "code",
      "metadata": {
        "id": "94Bv-WGbGpAW"
      },
      "source": [
        "# 문제 8. write 함수 이용하여 \"foo.txt\" 파일에 \"Life is too short, you need python\" 출력하시오.\n",
        "# 파일 경로 설정 코드 예제: os.path.join(colab_path, \"foo.txt\")\n",
        "\n",
        "# 정답 8.\n"
      ],
      "execution_count": null,
      "outputs": []
    },
    {
      "cell_type": "code",
      "metadata": {
        "id": "TsIEgTVbG1cl"
      },
      "source": [
        "# 문제 9. with 문 이용하여 문제 8을 수행하시오.\n",
        "# 파일 경로 설정 코드 예제: os.path.join(colab_path, \"foo.txt\")\n",
        "\n",
        "# 정답 9.\n"
      ],
      "execution_count": null,
      "outputs": []
    },
    {
      "cell_type": "code",
      "metadata": {
        "id": "WtuIJ2D4HFse"
      },
      "source": [
        "# 문제 10. os 모듈 불러와서 \"log\" 디렉토리(폴더) 생성하시오.\n",
        "# 파일 경로 설정 코드 예제: os.path.join(colab_path, \"log\")\n",
        "import os\n",
        "\n",
        "if os.path.isdir(os.path.join(colab_path, \"log\")):\n",
        "  os.rmdir(os.path.join(colab_path, \"log\"))\n",
        "\n",
        "# 정답 10.\n"
      ],
      "execution_count": null,
      "outputs": []
    },
    {
      "cell_type": "code",
      "metadata": {
        "id": "sWZyYJQcrGcJ"
      },
      "source": [
        "# 문제 11. pickle 모듈 불러와서 test 객체를 바이너리 파일 출력하시오.\n",
        "# 출력할 파일명: \"list.pickle\"\n",
        "# 파일 경로 설정 코드 예제: os.path.join(colab_path, \"list.pickle\")\n",
        "test = [1, 2, 3, 4, 5]\n",
        "\n",
        "# 정답 11.\n"
      ],
      "execution_count": null,
      "outputs": []
    },
    {
      "cell_type": "code",
      "metadata": {
        "id": "x0U_Y6scf5xF"
      },
      "source": [
        "# 문제 12. pickle 모듈 불러와서 문제 11에서 생성한 파일을 읽어서 test 객체를 생성하시오.\n",
        "# 읽어올 파일명: \"list.pickle\"\n",
        "# 파일 경로 설정 코드 예제: os.path.join(colab_path, \"list.pickle\")\n",
        "\n",
        "# 정답 12.\n",
        "\n",
        "# 실행 구문(아래 코드를 수정하지 마시오.)\n",
        "print(test)"
      ],
      "execution_count": null,
      "outputs": []
    }
  ]
}