{
  "nbformat": 4,
  "nbformat_minor": 0,
  "metadata": {
    "colab": {
      "name": "5주차 과제 20181796 김민준.ipynb",
      "provenance": [],
      "collapsed_sections": [],
      "include_colab_link": true
    },
    "kernelspec": {
      "name": "python3",
      "display_name": "Python 3"
    }
  },
  "cells": [
    {
      "cell_type": "markdown",
      "metadata": {
        "id": "view-in-github",
        "colab_type": "text"
      },
      "source": [
        "<a href=\"https://colab.research.google.com/github/mjkmain/mjkmain/blob/main/5%EC%A3%BC%EC%B0%A8_%EA%B3%BC%EC%A0%9C_20181796_%EA%B9%80%EB%AF%BC%EC%A4%80.ipynb\" target=\"_parent\"><img src=\"https://colab.research.google.com/assets/colab-badge.svg\" alt=\"Open In Colab\"/></a>"
      ]
    },
    {
      "cell_type": "code",
      "metadata": {
        "id": "rV1GVflHEXn0",
        "colab": {
          "base_uri": "https://localhost:8080/"
        },
        "outputId": "cf99b182-a7c7-4148-a383-ef3da984c7fb"
      },
      "source": [
        "# 문제 1. for문과 range 구문을 사용해서 0~9까지 한 라인에 하나씩 순차적으로 출력하는 프로그램을 작성하라.\n",
        "\n",
        "# 정답 1.\n",
        "for i in range(0,10):\n",
        "  print(i)"
      ],
      "execution_count": null,
      "outputs": [
        {
          "output_type": "stream",
          "text": [
            "0\n",
            "1\n",
            "2\n",
            "3\n",
            "4\n",
            "5\n",
            "6\n",
            "7\n",
            "8\n",
            "9\n"
          ],
          "name": "stdout"
        }
      ]
    },
    {
      "cell_type": "code",
      "metadata": {
        "id": "Fuqb_cC-EQlv",
        "colab": {
          "base_uri": "https://localhost:8080/"
        },
        "outputId": "e7870904-ade8-46ce-a73c-23f085858fa4"
      },
      "source": [
        "# 문제 2. for문과 range 구문을 사용해서 0~9까지 한 라인에 하나씩 순차적으로 본인의 이름과 함께 출력하는 프로그램을 작성하라.\n",
        "# 출력 예시: 0 홍길동\n",
        "\n",
        "# 정답 2.\n",
        "for i in range(0,10):\n",
        "  print(i,\"김민준\")"
      ],
      "execution_count": null,
      "outputs": [
        {
          "output_type": "stream",
          "text": [
            "0 김민준\n",
            "1 김민준\n",
            "2 김민준\n",
            "3 김민준\n",
            "4 김민준\n",
            "5 김민준\n",
            "6 김민준\n",
            "7 김민준\n",
            "8 김민준\n",
            "9 김민준\n"
          ],
          "name": "stdout"
        }
      ]
    },
    {
      "cell_type": "code",
      "metadata": {
        "id": "ZuRraohFFxfm",
        "colab": {
          "base_uri": "https://localhost:8080/"
        },
        "outputId": "5cf31bcb-dcec-4cb2-dda7-ca5b9817d038"
      },
      "source": [
        "# 문제 3. 월드컵은 4년에 한 번 개최된다. 2002년에 월드컵이 개최되었다.\n",
        "# range()를 사용하여 2002~2050년까지 중 월드컵이 개최되는 연도를 출력하라.\n",
        "\n",
        "# 정답 3.\n",
        "for i in range(2002,2051,4):\n",
        "  print(i)"
      ],
      "execution_count": null,
      "outputs": [
        {
          "output_type": "stream",
          "text": [
            "2002\n",
            "2006\n",
            "2010\n",
            "2014\n",
            "2018\n",
            "2022\n",
            "2026\n",
            "2030\n",
            "2034\n",
            "2038\n",
            "2042\n",
            "2046\n",
            "2050\n"
          ],
          "name": "stdout"
        }
      ]
    },
    {
      "cell_type": "code",
      "metadata": {
        "id": "dV0b9tffvUVR",
        "colab": {
          "base_uri": "https://localhost:8080/"
        },
        "outputId": "66687541-19cd-4ead-c246-5c65aad1cc9d"
      },
      "source": [
        "# 문제 4. 1부터 30까지의 숫자 중 3의 배수를 for문 이용하여 출력하라.\n",
        "\n",
        "# 정답 4.\n",
        "for i in range(1,31,3):\n",
        "  print(i)"
      ],
      "execution_count": null,
      "outputs": [
        {
          "output_type": "stream",
          "text": [
            "1\n",
            "4\n",
            "7\n",
            "10\n",
            "13\n",
            "16\n",
            "19\n",
            "22\n",
            "25\n",
            "28\n"
          ],
          "name": "stdout"
        }
      ]
    },
    {
      "cell_type": "code",
      "metadata": {
        "id": "g6r46qL8F9D6",
        "colab": {
          "base_uri": "https://localhost:8080/"
        },
        "outputId": "199b4eff-bcbf-4219-bbfd-fbc7d813036c"
      },
      "source": [
        "# 문제 5. 1부터 30까지의 숫자 중 3의 배수를 리스트 내포(list comprehension)하여 출력하라.\n",
        "\n",
        "# 정답 5.\n",
        "result = [i*3 for i in range(1,11)]\n",
        "print(result)"
      ],
      "execution_count": null,
      "outputs": [
        {
          "output_type": "stream",
          "text": [
            "[3, 6, 9, 12, 15, 18, 21, 24, 27, 30]\n"
          ],
          "name": "stdout"
        }
      ]
    },
    {
      "cell_type": "code",
      "metadata": {
        "id": "TNrELlmVGNJa",
        "colab": {
          "base_uri": "https://localhost:8080/"
        },
        "outputId": "1a2d0967-ea97-4471-f022-03a0d873d13c"
      },
      "source": [
        "# 문제 6. 20부터 0까지 1씩 감소하는 숫자들을 리스트 내포하여 출력하라.\n",
        "\n",
        "# 정답 6.\n",
        "result = [i for i in range(20,-1,-1)]\n",
        "print(result)"
      ],
      "execution_count": null,
      "outputs": [
        {
          "output_type": "stream",
          "text": [
            "[20, 19, 18, 17, 16, 15, 14, 13, 12, 11, 10, 9, 8, 7, 6, 5, 4, 3, 2, 1, 0]\n"
          ],
          "name": "stdout"
        }
      ]
    },
    {
      "cell_type": "code",
      "metadata": {
        "id": "uxW8swn9GYnf",
        "colab": {
          "base_uri": "https://localhost:8080/"
        },
        "outputId": "0c200bd1-4b02-42c0-b9e2-14db19c00c52"
      },
      "source": [
        "# 문제 7. 구구단 3단을 for문, range() 이용하고 if문 없이 출력하라. 단 홀수 번째만 출력한다.\n",
        "# 출력 예시: 3, 9, 15, 21, 27\n",
        "\n",
        "# 정답 7.\n",
        "for i in range(1,10,2):\n",
        "  print(i*3,end=\" \")"
      ],
      "execution_count": null,
      "outputs": [
        {
          "output_type": "stream",
          "text": [
            "3 9 15 21 27 "
          ],
          "name": "stdout"
        }
      ]
    },
    {
      "cell_type": "code",
      "metadata": {
        "id": "50tB2EFRGihu",
        "colab": {
          "base_uri": "https://localhost:8080/"
        },
        "outputId": "66bd2b09-6700-4ff0-c3c3-9fdf44c13043"
      },
      "source": [
        "# 문제 8. 구구단 3단을 for문, range(), if문 이용하여 출력하라. 단 홀수 번째만 출력한다.\n",
        "# 출력 예시: 3, 9, 15, 21, 27\n",
        "\n",
        "# 정답 8\n",
        "for i in range(1,10):\n",
        "  if i%2!=0:\n",
        "    print(i*3)"
      ],
      "execution_count": null,
      "outputs": [
        {
          "output_type": "stream",
          "text": [
            "3\n",
            "9\n",
            "15\n",
            "21\n",
            "27\n"
          ],
          "name": "stdout"
        }
      ]
    },
    {
      "cell_type": "code",
      "metadata": {
        "id": "94Bv-WGbGpAW",
        "colab": {
          "base_uri": "https://localhost:8080/"
        },
        "outputId": "647e37fd-03de-490d-ecfb-379459fba947"
      },
      "source": [
        "# 문제 9. 구구단 3단을 리스트 내포(range(step) 포함) 이용하여 출력하라. 단 홀수 번째만 출력한다.\n",
        "# 출력 예시: 3, 9, 15, 21, 27\n",
        "\n",
        "# 정답 9.\n",
        "result = [i*3 for i in range(1,10,2)]\n",
        "print(result)"
      ],
      "execution_count": null,
      "outputs": [
        {
          "output_type": "stream",
          "text": [
            "[3, 9, 15, 21, 27]\n"
          ],
          "name": "stdout"
        }
      ]
    },
    {
      "cell_type": "code",
      "metadata": {
        "id": "TsIEgTVbG1cl",
        "colab": {
          "base_uri": "https://localhost:8080/"
        },
        "outputId": "91c63700-963d-4767-940f-cdce0406a6c1"
      },
      "source": [
        "# 문제 10. 구구단 3단을 리스트 내포(if문 포함) 이용하여 출력하라. 단 홀수 번째만 출력한다.\n",
        "# 출력 예시: 3, 9, 15, 21, 27\n",
        "\n",
        "# 정답 10.\n",
        "result = [i * 3 for i in (1, 10) if i % 2 != 0]\n",
        "print(result)"
      ],
      "execution_count": null,
      "outputs": [
        {
          "output_type": "stream",
          "text": [
            "[3]\n"
          ],
          "name": "stdout"
        }
      ]
    },
    {
      "cell_type": "code",
      "metadata": {
        "id": "WtuIJ2D4HFse",
        "colab": {
          "base_uri": "https://localhost:8080/"
        },
        "outputId": "e44d41b7-2f7d-4261-cd98-033f5286a84d"
      },
      "source": [
        "# 문제 11. 1~10까지의 숫자 중 모든 홀수의 합을 출력하는 프로그램을 for 문을 사용하여 작성하라.\n",
        "\n",
        "# 정답 11.\n",
        "sum=0\n",
        "for i in range(1,11,2):\n",
        "  sum+=i\n",
        "print(sum)"
      ],
      "execution_count": null,
      "outputs": [
        {
          "output_type": "stream",
          "text": [
            "25\n"
          ],
          "name": "stdout"
        }
      ]
    },
    {
      "cell_type": "code",
      "metadata": {
        "id": "Kv-c7MKDHPfh",
        "colab": {
          "base_uri": "https://localhost:8080/"
        },
        "outputId": "cd96e94f-e312-4743-f559-107ecda709dc"
      },
      "source": [
        "# 문제 12. 두 정수 A와 B가 주어졌을 때, A와 B를 비교하는 프로그램을 작성하시오.\n",
        "# 입력 시, A에 3, B에 2 입력하세요.\n",
        "# 문제 링크: https://www.acmicpc.net/problem/1330\n",
        "\n",
        "# 정답 12.\n",
        "values = input()\n",
        "values = values.split()\n",
        "a = int(values[0])\n",
        "b = int(values[1])\n",
        "if a > b:\n",
        "  print(a,\"가\", b,\"보다 큽니다\")\n",
        "elif a < b:\n",
        "  print(b,\"가\", a,\"보다 큽니다\")\n",
        "else:\n",
        "  print(a,\"=\",b, \"입니다.\")  \n",
        "# 코드 작성: A와 B를 비교하여 결과 출력\n"
      ],
      "execution_count": null,
      "outputs": [
        {
          "output_type": "stream",
          "text": [
            "3 3\n",
            "3 = 3 입니다.\n"
          ],
          "name": "stdout"
        }
      ]
    }
  ]
}