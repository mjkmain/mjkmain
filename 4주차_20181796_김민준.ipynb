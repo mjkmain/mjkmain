{
  "nbformat": 4,
  "nbformat_minor": 0,
  "metadata": {
    "colab": {
      "name": "4주차 20181796 김민준.ipynb",
      "provenance": [],
      "collapsed_sections": [],
      "include_colab_link": true
    },
    "kernelspec": {
      "name": "python3",
      "display_name": "Python 3"
    }
  },
  "cells": [
    {
      "cell_type": "markdown",
      "metadata": {
        "id": "view-in-github",
        "colab_type": "text"
      },
      "source": [
        "<a href=\"https://colab.research.google.com/github/mjkmain/mjkmain/blob/main/4%EC%A3%BC%EC%B0%A8_20181796_%EA%B9%80%EB%AF%BC%EC%A4%80.ipynb\" target=\"_parent\"><img src=\"https://colab.research.google.com/assets/colab-badge.svg\" alt=\"Open In Colab\"/></a>"
      ]
    },
    {
      "cell_type": "code",
      "metadata": {
        "id": "rV1GVflHEXn0",
        "colab": {
          "base_uri": "https://localhost:8080/"
        },
        "outputId": "63d1b90b-3177-4658-8d14-4f6cbabf5253"
      },
      "source": [
        "# 문제 1. 학번과 이름이 다음과 같을 때 이름만 출력하기\n",
        "license_plate = \"20181796 김민준\"  # 수강생 분의 학번, 이름 반영 바랍니다.\n",
        "\n",
        "# 정답 1.\n",
        "name=license_plate[-3:]\n",
        "print(name)"
      ],
      "execution_count": null,
      "outputs": [
        {
          "output_type": "stream",
          "text": [
            "김민준\n"
          ],
          "name": "stdout"
        }
      ]
    },
    {
      "cell_type": "code",
      "metadata": {
        "id": "Fuqb_cC-EQlv",
        "colab": {
          "base_uri": "https://localhost:8080/"
        },
        "outputId": "db29c579-4e9b-4813-8b98-84056639cc1a"
      },
      "source": [
        "# 문제 2. 아래의 전화번호에서 하이픈('-')을 제거하고 출력하기\n",
        "phone_number = \"010-1111-2222\"\n",
        "\n",
        "# 정답 2.\n",
        "phone_number_1=phone_number.replace('-','')\n",
        "print(phone_number_1)"
      ],
      "execution_count": null,
      "outputs": [
        {
          "output_type": "stream",
          "text": [
            "01011112222\n"
          ],
          "name": "stdout"
        }
      ]
    },
    {
      "cell_type": "markdown",
      "metadata": {
        "id": "xSkI3ptXgvUa"
      },
      "source": [
        ""
      ]
    },
    {
      "cell_type": "code",
      "metadata": {
        "id": "ZuRraohFFxfm",
        "colab": {
          "base_uri": "https://localhost:8080/",
          "height": 222
        },
        "outputId": "a402ba64-766e-4cef-ebb4-c62df8c5c9a8"
      },
      "source": [
        "# 문제 3. 아래 문자열에서 소문자 'a'를 대문자 'A'로 변경하기\n",
        "string = \"abcdfe2a354a32\"\n",
        "\n",
        "# 정답 3.\n",
        "string_upperA=string.replace('a','A')\n",
        "print(string_upperA)"
      ],
      "execution_count": null,
      "outputs": [
        {
          "output_type": "error",
          "ename": "NameError",
          "evalue": "ignored",
          "traceback": [
            "\u001b[0;31m---------------------------------------------------------------------------\u001b[0m",
            "\u001b[0;31mNameError\u001b[0m                                 Traceback (most recent call last)",
            "\u001b[0;32m<ipython-input-12-6aa90718a5c7>\u001b[0m in \u001b[0;36m<module>\u001b[0;34m()\u001b[0m\n\u001b[1;32m      3\u001b[0m \u001b[0;34m\u001b[0m\u001b[0m\n\u001b[1;32m      4\u001b[0m \u001b[0;31m# 정답 3.\u001b[0m\u001b[0;34m\u001b[0m\u001b[0;34m\u001b[0m\u001b[0;34m\u001b[0m\u001b[0m\n\u001b[0;32m----> 5\u001b[0;31m \u001b[0mstring_upperA\u001b[0m\u001b[0;34m=\u001b[0m\u001b[0mstring\u001b[0m\u001b[0;34m.\u001b[0m\u001b[0mupper\u001b[0m\u001b[0;34m(\u001b[0m\u001b[0ma\u001b[0m\u001b[0;34m)\u001b[0m\u001b[0;34m\u001b[0m\u001b[0;34m\u001b[0m\u001b[0m\n\u001b[0m\u001b[1;32m      6\u001b[0m \u001b[0mprint\u001b[0m\u001b[0;34m(\u001b[0m\u001b[0mstring_upperA\u001b[0m\u001b[0;34m)\u001b[0m\u001b[0;34m\u001b[0m\u001b[0;34m\u001b[0m\u001b[0m\n",
            "\u001b[0;31mNameError\u001b[0m: name 'a' is not defined"
          ]
        }
      ]
    },
    {
      "cell_type": "code",
      "metadata": {
        "id": "g6r46qL8F9D6",
        "colab": {
          "base_uri": "https://localhost:8080/"
        },
        "outputId": "73b9f271-e87f-48d3-8bfd-baee9c19ff8a"
      },
      "source": [
        "# 문제 4. 문자열을 소문자 btc_krw로 변경하기\n",
        "ticker = \"BTC_KRW\"\n",
        "\n",
        "# 정답 4.\n",
        "ticker_lower=ticker.lower()\n",
        "print(ticker_lower)"
      ],
      "execution_count": null,
      "outputs": [
        {
          "output_type": "stream",
          "text": [
            "btc_krw\n"
          ],
          "name": "stdout"
        }
      ]
    },
    {
      "cell_type": "markdown",
      "metadata": {
        "id": "d0J1Cg-th10-"
      },
      "source": [
        ""
      ]
    },
    {
      "cell_type": "code",
      "metadata": {
        "id": "TNrELlmVGNJa",
        "colab": {
          "base_uri": "https://localhost:8080/"
        },
        "outputId": "cfb45fce-f148-425e-92cd-23b2f2970af4"
      },
      "source": [
        "# 문제 5. 파일 이름이 문자열로 저장되어 있을 때, startswith 함수로\n",
        "# 파일 이름이 '2020'로 시작하는지 확인하기\n",
        "file_name = \"2020_보고서.xlsx\"\n",
        "\n",
        "#정답 5.\n",
        "file_name.startswith('2020')"
      ],
      "execution_count": null,
      "outputs": [
        {
          "output_type": "execute_result",
          "data": {
            "text/plain": [
              "True"
            ]
          },
          "metadata": {
            "tags": []
          },
          "execution_count": 16
        }
      ]
    },
    {
      "cell_type": "markdown",
      "metadata": {
        "id": "M7xkxIHPjLcJ"
      },
      "source": [
        ""
      ]
    },
    {
      "cell_type": "code",
      "metadata": {
        "id": "uxW8swn9GYnf",
        "colab": {
          "base_uri": "https://localhost:8080/"
        },
        "outputId": "4b918989-e396-4210-d0a8-832cda225b4b"
      },
      "source": [
        "# 문제 6. 아래 문자열을 endswith 함수로 파일 이름이 'xlsx'로 끝나는지 확인하기\n",
        "file_name = \"보고서.xlsx\"\n",
        "\n",
        "# 정답 6.\n",
        "file_name.endswith('xlsx')"
      ],
      "execution_count": null,
      "outputs": [
        {
          "output_type": "execute_result",
          "data": {
            "text/plain": [
              "True"
            ]
          },
          "metadata": {
            "tags": []
          },
          "execution_count": 18
        }
      ]
    },
    {
      "cell_type": "code",
      "metadata": {
        "id": "50tB2EFRGihu",
        "colab": {
          "base_uri": "https://localhost:8080/"
        },
        "outputId": "3d136928-15be-45a9-8e68-f24cf91d7d62"
      },
      "source": [
        "# 문제 7. 다음의 문자열을 btc, krw로 나누기\n",
        "ticker = \"btc_krw\"\n",
        "\n",
        "# 정답 7.\n",
        "ticker_split = ticker.split('_')\n",
        "print(ticker_split)"
      ],
      "execution_count": null,
      "outputs": [
        {
          "output_type": "stream",
          "text": [
            "['btc', 'krw']\n"
          ],
          "name": "stdout"
        }
      ]
    },
    {
      "cell_type": "code",
      "metadata": {
        "id": "94Bv-WGbGpAW",
        "colab": {
          "base_uri": "https://localhost:8080/"
        },
        "outputId": "3d92617e-afdb-4739-f342-5e26fe772bba"
      },
      "source": [
        "# 문제 8. lang1과 lang2 리스트의 원소를 모두 갖는 langs 리스트 만들고 출력하기\n",
        "lang1 = [\"C\", \"C++\", \"JAVA\"]\n",
        "lang2 = [\"Python\", \"Go\", \"C#\"]\n",
        "\n",
        "# 정답 8.\n",
        "langs = lang1 + lang2\n",
        "print(langs)"
      ],
      "execution_count": null,
      "outputs": [
        {
          "output_type": "stream",
          "text": [
            "['C', 'C++', 'JAVA', 'Python', 'Go', 'C#']\n"
          ],
          "name": "stdout"
        }
      ]
    },
    {
      "cell_type": "code",
      "metadata": {
        "id": "TsIEgTVbG1cl",
        "colab": {
          "base_uri": "https://localhost:8080/"
        },
        "outputId": "3be55a34-7b6c-4a5e-ec89-22a0ff8b817d"
      },
      "source": [
        "# 문제 9. 다음 리스트에 저장된 데이터의 개수를 화면에 출력하기\n",
        "cook = [\"피자\", \"김밥\", \"만두\", \"양념치킨\", \"족발\", \"피자\", \"김치만두\", \"쫄면\"]\n",
        "\n",
        "# 정답 9.\n",
        "len(cook)"
      ],
      "execution_count": null,
      "outputs": [
        {
          "output_type": "execute_result",
          "data": {
            "text/plain": [
              "8"
            ]
          },
          "metadata": {
            "tags": []
          },
          "execution_count": 22
        }
      ]
    },
    {
      "cell_type": "code",
      "metadata": {
        "id": "WtuIJ2D4HFse",
        "colab": {
          "base_uri": "https://localhost:8080/"
        },
        "outputId": "b166a488-b56d-4da8-8e1e-84a62c50c21a"
      },
      "source": [
        "# 문제 10. 슬라이싱 사용하여 홀수만 출력하기\n",
        "nums = [1, 2, 3, 4, 5, 6, 7, 8, 9, 10]\n",
        "\n",
        "# 정답 10.\n",
        "nums_s=nums[0::2]\n",
        "print(nums_s)"
      ],
      "execution_count": null,
      "outputs": [
        {
          "output_type": "stream",
          "text": [
            "[1, 3, 5, 7, 9]\n"
          ],
          "name": "stdout"
        }
      ]
    },
    {
      "cell_type": "code",
      "metadata": {
        "id": "Kv-c7MKDHPfh",
        "colab": {
          "base_uri": "https://localhost:8080/"
        },
        "outputId": "fed63b78-840c-4f4e-9732-07f7c716d1eb"
      },
      "source": [
        "# 문제 11. 슬라이싱 사용하여 리스트의 숫자를 역 방향으로 출력하기\n",
        "nums = [1, 2, 3, 4, 5]\n",
        "\n",
        "# 정답 11.\n",
        "nums_s=nums[::-1]\n",
        "print(nums_s)"
      ],
      "execution_count": null,
      "outputs": [
        {
          "output_type": "stream",
          "text": [
            "[5, 4, 3, 2, 1]\n"
          ],
          "name": "stdout"
        }
      ]
    },
    {
      "cell_type": "code",
      "metadata": {
        "id": "C6Q3csBFHkgu",
        "colab": {
          "base_uri": "https://localhost:8080/"
        },
        "outputId": "1639c12e-f35f-41a3-f620-efa5b02bdb12"
      },
      "source": [
        "# 문제 12. 리스트에 아래의 데이터가 바인딩 되어 있다.\n",
        "interest = ['삼성전자', 'LG전자', 'NAVER', 'SK하이닉스','미래에셋대우']\n",
        "# 아래와 같이 화면에 출력하라.\n",
        "# 출력 예시: 삼성전자/LG전자/NAVER/SK하이닉스/미래에셋대우\n",
        "\n",
        "# 정답 12.\n",
        "interest_inverse=interest[::-1]\n",
        "print(\"/\".join(interest_inverse))"
      ],
      "execution_count": null,
      "outputs": [
        {
          "output_type": "stream",
          "text": [
            "미래에셋대우/SK하이닉스/NAVER/LG전자/삼성전자\n"
          ],
          "name": "stdout"
        }
      ]
    },
    {
      "cell_type": "code",
      "metadata": {
        "id": "J5VtKKbvHynh",
        "colab": {
          "base_uri": "https://localhost:8080/"
        },
        "outputId": "59a73f91-e619-40a9-f196-ba1e96f32ac0"
      },
      "source": [
        "# 문제 13. 회사 이름이 슬래시 ('/')로 구분되어 하나의 문자열로 저장되어 있다.\n",
        "string = \"삼성전자/LG전자/NAVER\"\n",
        "# 이를 3개의 회사 이름으로 분리시키고 결과값을 출력하라.\n",
        "\n",
        "# 정답 13.\n",
        "string_ans=string.split('/')\n",
        "print(string_ans)"
      ],
      "execution_count": null,
      "outputs": [
        {
          "output_type": "stream",
          "text": [
            "['삼성전자', 'LG전자', 'NAVER']\n"
          ],
          "name": "stdout"
        }
      ]
    },
    {
      "cell_type": "code",
      "metadata": {
        "id": "GLALcROlH3lO",
        "colab": {
          "base_uri": "https://localhost:8080/"
        },
        "outputId": "fa10011a-8b1e-4201-8e10-d9c251c6d809"
      },
      "source": [
        "# 문제 14. 다음 딕셔너리에서 메로나의 가격을 1300으로 수정하라.\n",
        "ice = {\n",
        "    '메로나': 1000,\n",
        "    '폴로포': 1200,\n",
        "    '빵빠레': 1800,\n",
        "    '죠스바': 1200,\n",
        "    '월드콘': 1500\n",
        "}\n",
        "\n",
        "# 정답 14.\n",
        "ice['메로나']=1300\n",
        "print(ice)"
      ],
      "execution_count": null,
      "outputs": [
        {
          "output_type": "stream",
          "text": [
            "{'메로나': 1300, '폴로포': 1200, '빵빠레': 1800, '죠스바': 1200, '월드콘': 1500}\n"
          ],
          "name": "stdout"
        }
      ]
    },
    {
      "cell_type": "code",
      "metadata": {
        "id": "VR0TaEKCIVfd",
        "colab": {
          "base_uri": "https://localhost:8080/"
        },
        "outputId": "0c0e39f6-eaa2-4226-954e-b89f2df25360"
      },
      "source": [
        "# 문제 15. 다음 딕셔너리에서 메로나를 삭제하라.\n",
        "ice = {\n",
        "    '메로나': 1000,\n",
        "    '폴로포': 1200,\n",
        "    '빵빠레': 1800,\n",
        "    '죠스바': 1200,\n",
        "    '월드콘': 1500\n",
        "}\n",
        "\n",
        "# 정답 15.\n",
        "del ice['메로나']\n",
        "print(ice)"
      ],
      "execution_count": null,
      "outputs": [
        {
          "output_type": "stream",
          "text": [
            "{'폴로포': 1200, '빵빠레': 1800, '죠스바': 1200, '월드콘': 1500}\n"
          ],
          "name": "stdout"
        }
      ]
    },
    {
      "cell_type": "code",
      "metadata": {
        "id": "FPLJdbcDIfLh",
        "colab": {
          "base_uri": "https://localhost:8080/"
        },
        "outputId": "92c27b5d-44eb-4895-f6b5-4fd7a8a3fc2d"
      },
      "source": [
        "# 문제 16. 다음 딕셔너리에서 메로나의 가격을 화면에 출력하라.\n",
        "inventory = {\n",
        "    # [가격, 개수]\n",
        "    \"메로나\": [300, 20],\n",
        "    \"비비빅\": [400, 3],\n",
        "    \"죠스바\": [250, 100]\n",
        "}\n",
        "\n",
        "# 정답 16.\n",
        "print(inventory[\"죠스바\"][1])"
      ],
      "execution_count": null,
      "outputs": [
        {
          "output_type": "stream",
          "text": [
            "100\n"
          ],
          "name": "stdout"
        }
      ]
    },
    {
      "cell_type": "code",
      "metadata": {
        "id": "NpqVoc4YIzTJ",
        "colab": {
          "base_uri": "https://localhost:8080/"
        },
        "outputId": "2d30937d-2b46-4ba0-c7b5-779cc937e865"
      },
      "source": [
        "# 문제 17. 다음 딕셔너리에서 key 값으로만 구성된 리스트를 생성하라.\n",
        "icecream = {\"탱크보이\": 1200, \"폴라포\": 1200, \"빵빠레\": 1800, \"월드콘\": 1500, \"메로나\": 1000}\n",
        "\n",
        "# 정답 17.\n",
        "list(icecream.keys())"
      ],
      "execution_count": null,
      "outputs": [
        {
          "output_type": "execute_result",
          "data": {
            "text/plain": [
              "['탱크보이', '폴라포', '빵빠레', '월드콘', '메로나']"
            ]
          },
          "metadata": {
            "tags": []
          },
          "execution_count": 38
        }
      ]
    },
    {
      "cell_type": "code",
      "metadata": {
        "id": "wkU4PjD-I9gJ",
        "colab": {
          "base_uri": "https://localhost:8080/"
        },
        "outputId": "0834705f-0aa2-4c45-f2fb-eaa735ad33e9"
      },
      "source": [
        "# 문제 18. 다음 딕셔너리에서 values 값으로만 구성된 리스트를 생성하라.\n",
        "icecream = {\"탱크보이\": 1200, \"폴라포\": 1200, \"빵빠레\": 1800, \"월드콘\": 1500, \"메로나\": 1000}\n",
        "\n",
        "# 정답 18.\n",
        "list(icecream.values())"
      ],
      "execution_count": null,
      "outputs": [
        {
          "output_type": "execute_result",
          "data": {
            "text/plain": [
              "[1200, 1200, 1800, 1500, 1000]"
            ]
          },
          "metadata": {
            "tags": []
          },
          "execution_count": 39
        }
      ]
    },
    {
      "cell_type": "code",
      "metadata": {
        "id": "-JT-BiPrJEDC",
        "colab": {
          "base_uri": "https://localhost:8080/"
        },
        "outputId": "4ffcb646-85d0-4c83-da09-6fea9a1f621f"
      },
      "source": [
        "# 문제 19. 아래 두개의 튜플을 하나의 딕셔너리(result)로 변환하라.\n",
        "keys = (\"apple\", \"pear\", \"peach\")\n",
        "vals = (300, 250, 400)\n",
        "\n",
        "# 정답 19.\n",
        "result = dict(zip(keys, vals))\n",
        "print(result)"
      ],
      "execution_count": null,
      "outputs": [
        {
          "output_type": "stream",
          "text": [
            "{'apple': 300, 'pear': 250, 'peach': 400}\n"
          ],
          "name": "stdout"
        }
      ]
    },
    {
      "cell_type": "code",
      "metadata": {
        "id": "zQByWQZsNvsK"
      },
      "source": [
        ""
      ],
      "execution_count": null,
      "outputs": []
    }
  ]
}