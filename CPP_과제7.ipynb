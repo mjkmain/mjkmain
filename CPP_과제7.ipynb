{
  "nbformat": 4,
  "nbformat_minor": 0,
  "metadata": {
    "colab": {
      "name": "CPP_과제7.ipynb",
      "provenance": [],
      "collapsed_sections": [],
      "include_colab_link": true
    },
    "kernelspec": {
      "name": "python3",
      "display_name": "Python 3"
    }
  },
  "cells": [
    {
      "cell_type": "markdown",
      "metadata": {
        "id": "view-in-github",
        "colab_type": "text"
      },
      "source": [
        "<a href=\"https://colab.research.google.com/github/mjkmain/mjkmain/blob/main/CPP_%EA%B3%BC%EC%A0%9C7.ipynb\" target=\"_parent\"><img src=\"https://colab.research.google.com/assets/colab-badge.svg\" alt=\"Open In Colab\"/></a>"
      ]
    },
    {
      "cell_type": "code",
      "metadata": {
        "id": "rV1GVflHEXn0"
      },
      "source": [
        "# 여러분의 학번과 이름 문자열을 화면에 출력해주세요.\n",
        "\n",
        "id = '20200000'  # 수강생분의 학번 입력해주세요\n",
        "name = '홍길동'  # 수강생분의 이름 입력해주세요\n",
        "print(id, name)"
      ],
      "execution_count": null,
      "outputs": []
    },
    {
      "cell_type": "code",
      "metadata": {
        "id": "BJYiMeRQJ8DN",
        "colab": {
          "base_uri": "https://localhost:8080/"
        },
        "outputId": "24cc948b-9f5c-4f8a-f829-d3bd07754285"
      },
      "source": [
        "# 문제 1. 사람 (Human) 클래스에 \"응애응애\"를 출력하는 생성자를 추가하라.\n",
        "\n",
        "# 출력 예제\n",
        "# >> baby = Human()\n",
        "# 응애응애\n",
        "\n",
        "# 정답 1.\n",
        "# 코드 작성: Human 클래스에 생성자 추가하기\n",
        "\n",
        "\n",
        "# 실행 구문 (아래 코드를 수정하지 마시오.)\n",
        "class Human():\n",
        "  def __init__(self):\n",
        "    print(\"응애응애\")\n",
        "baby = Human()"
      ],
      "execution_count": null,
      "outputs": [
        {
          "output_type": "stream",
          "text": [
            "응애응애\n"
          ],
          "name": "stdout"
        }
      ]
    },
    {
      "cell_type": "code",
      "metadata": {
        "id": "Fuqb_cC-EQlv",
        "colab": {
          "base_uri": "https://localhost:8080/"
        },
        "outputId": "2edb11cc-a592-4726-95be-e43c65b7529e"
      },
      "source": [
        "# 문제 2. 사람 (Human) 클래스에 (이름, 나이, 성별)을 받아서 인스턴스 변수(name, age, sex)를\n",
        "# 초기화하는 생성자를 추가하라.\n",
        "\n",
        "# 출력 예제\n",
        "# >> student = Human(\"홍길동\", \"20\", \"남자\")\n",
        "# >> print(student.name, student.age, student.sex)\n",
        "# 홍길동 20 남자\n",
        "\n",
        "# 정답 2.\n",
        "# 코드 작성: Human 클래스에 생성자 추가하기\n",
        "\n",
        "class Human():\n",
        "  def __init__(self,name,age,sex):\n",
        "    self.name = name\n",
        "    self.age = age\n",
        "    self.sex = sex\n",
        "    \n",
        "# 실행 구문\n",
        "student = Human(\"홍길동\", \"20\", \"남자\")\n",
        "print(student.name, student.age, student.sex)"
      ],
      "execution_count": null,
      "outputs": [
        {
          "output_type": "stream",
          "text": [
            "홍길동 20 남자\n"
          ],
          "name": "stdout"
        }
      ]
    },
    {
      "cell_type": "code",
      "metadata": {
        "id": "ZuRraohFFxfm",
        "colab": {
          "base_uri": "https://localhost:8080/"
        },
        "outputId": "24a49540-24c8-4e64-a7a7-b1a0e6a67671"
      },
      "source": [
        "# 문제 3. 사람 (Human) 클래스에서 이름, 나이, 성별을 출력하는 who() 메소드를 추가하세요.\n",
        "\n",
        "# 출력 예제\n",
        "# >> student = Human(\"홍길동\", \"20\", \"남자\")\n",
        "# >> student.who()\n",
        "# 이름: 홍길동, 나이: 20, 성별: 남자\n",
        "\n",
        "# 정답 3.\n",
        "# 코드 작성: 클래스, who() 메소드 추가\n",
        "\n",
        "class Human():\n",
        "  def __init__(self, name, age, sex):\n",
        "    self.name = name\n",
        "    self.age = age\n",
        "    self.sex = sex\n",
        "  \n",
        "  def who(self):\n",
        "    print(f\"이름:{self.name}, 나이:{self.age}, 성별:{self.sex}\")\n",
        "    print(\"이름: {},나이: {}, 성별: {}\".format(self.name,self.age,self.sex))\n",
        "# 실행 구문\n",
        "student = Human(\"홍길동\", \"20\", \"남자\")\n",
        "student.who()"
      ],
      "execution_count": null,
      "outputs": [
        {
          "output_type": "stream",
          "text": [
            "이름:홍길동, 나이:20, 성별:남자\n",
            "이름: 홍길동,나이: 20, 성별: 남자\n"
          ],
          "name": "stdout"
        }
      ]
    },
    {
      "cell_type": "code",
      "metadata": {
        "id": "g6r46qL8F9D6",
        "colab": {
          "base_uri": "https://localhost:8080/"
        },
        "outputId": "f291bb9f-3028-4645-cc22-c24fd048d316"
      },
      "source": [
        "# 문제 4. 사람 (Human) 클래스에서 (이름, 나이, 성별)을 받는 set_info() 메소드를 추가하세요.\n",
        "\n",
        "# 출력 예제\n",
        "# >> student = Human()\n",
        "# >> student.set_info(\"홍길동\", 20, \"남자\")\n",
        "# >> student.who()\n",
        "# 이름: 홍길동, 나이: 20, 성별: 남자\n",
        "\n",
        "# 정답 4.\n",
        "# 코드 작성: 클래스, set_info() 메소드 추가\n",
        "\n",
        "class Human():\n",
        "\n",
        "  def set_info(self, name, age, sex):\n",
        "    self.name = name\n",
        "    self.age = age\n",
        "    self.sex = sex\n",
        "\n",
        "  def who(self):\n",
        "    print(f\"이름 : {self.name}, 나이 : {self.age}, 성별 : {self.sex}\")\n",
        "# 실행 구문\n",
        "student = Human()\n",
        "student.set_info(\"홍길동\", \"20\", \"남자\")\n",
        "student.who()"
      ],
      "execution_count": null,
      "outputs": [
        {
          "output_type": "stream",
          "text": [
            "이름 : 홍길동, 나이 : 20, 성별 : 남자\n"
          ],
          "name": "stdout"
        }
      ]
    },
    {
      "cell_type": "code",
      "metadata": {
        "id": "TNrELlmVGNJa",
        "colab": {
          "base_uri": "https://localhost:8080/"
        },
        "outputId": "0917bf89-7b65-4f38-8310-1285552038c5"
      },
      "source": [
        "# 문제 5. 아래 코드의 에러의 원인을 찾고 해결하시오.\n",
        "# class OMG:\n",
        "#     def print(self):\n",
        "#         print(\"Oh my god\")\n",
        "\n",
        "# 정답 5.\n",
        "class OMG:\n",
        "  def print(self):\n",
        "    print(\"Oh my god\")\n",
        "\n",
        "\n",
        "# 실행 구문 (아래 코드를 수정하지 마시오.)\n",
        "mystock = OMG()\n",
        "mystock.print()"
      ],
      "execution_count": null,
      "outputs": [
        {
          "output_type": "stream",
          "text": [
            "Oh my god\n"
          ],
          "name": "stdout"
        }
      ]
    },
    {
      "cell_type": "code",
      "metadata": {
        "id": "uxW8swn9GYnf",
        "colab": {
          "base_uri": "https://localhost:8080/"
        },
        "outputId": "ddf69f83-6510-4af7-e6da-2f90bb250597"
      },
      "source": [
        "# 문제 6. 다음 코드가 동작하도록 Car 클래스를 정의하라.\n",
        "# 출력 예제\n",
        "# >> sample = Car(2, 1000)\n",
        "# >> print(sample.num_wheels, sample.price)\n",
        "# 2 1000\n",
        "\n",
        "# 정답 6.\n",
        "# 코드 작성: Car 클래스\n",
        "\n",
        "class Car():\n",
        "  def __init__(self, num_wheels, price):\n",
        "    self.num_wheels = num_wheels\n",
        "    self.price = price\n",
        "  \n",
        "# 실행 구문 (아래 코드를 수정하지 마시오.)\n",
        "sample = Car(2, 1000)\n",
        "print(sample.num_wheels, sample.price)"
      ],
      "execution_count": null,
      "outputs": [
        {
          "output_type": "stream",
          "text": [
            "2 1000\n"
          ],
          "name": "stdout"
        }
      ]
    },
    {
      "cell_type": "code",
      "metadata": {
        "id": "50tB2EFRGihu",
        "colab": {
          "base_uri": "https://localhost:8080/"
        },
        "outputId": "150f1fe6-d4d7-41c6-c608-93dc74d91b83"
      },
      "source": [
        "# 문제 7. 문제 6의 Car 클래스를 상속받은 Bicycle 클래스를 정의하라.\n",
        "# 출력 예제\n",
        "# >> sample = Bicycle(2, 1000)\n",
        "# >> print(sample.num_wheels, sample.price)\n",
        "# 2 1000\n",
        "\n",
        "# 정답 7.\n",
        "# 코드 작성: Car 클래스 상속받은 Bicycle 클래스\n",
        "\n",
        "class Bicycle(Car):\n",
        "  pass\n",
        "# 실행 구문 (아래 코드를 수정하지 마시오.)\n",
        "sample = Bicycle(2, 1000)\n",
        "print(sample.num_wheels, sample.price)"
      ],
      "execution_count": null,
      "outputs": [
        {
          "output_type": "stream",
          "text": [
            "2 1000\n"
          ],
          "name": "stdout"
        }
      ]
    },
    {
      "cell_type": "code",
      "metadata": {
        "id": "94Bv-WGbGpAW",
        "colab": {
          "base_uri": "https://localhost:8080/"
        },
        "outputId": "e851ca81-1841-4d4a-b1d0-d619b73a1d44"
      },
      "source": [
        "# 문제 8. 다음의 코드가 동작하도록 Bicycle 클래스를 정의하라.\n",
        "# Bicycle 클래스는 Car 클래스를 상속받는다.\n",
        "# 출력 예제\n",
        "# >> sample = Bicycle(2, 1000, \"삼천리\")\n",
        "# >> sample.info()\n",
        "# 바퀴수: 2, 가격: 1000, 브랜드: 삼천리\n",
        "\n",
        "# 정답 8.\n",
        "# 코드 작성: Car 클래스 상속받은 Bicycle 클래스\n",
        "class Bicycle(Car):\n",
        "  def __init__(self, num_wheels, price, brand):\n",
        "    self.num_wheels = num_wheels\n",
        "    self.price = price\n",
        "    self.brand = brand\n",
        "  \n",
        "  def info(self):\n",
        "    print(f\"바퀴수 : {self.num_wheels}, 가격: {self.price}, 브랜드: {self.brand}\")\n",
        "\n",
        "# 실행 구문 (아래 코드를 수정하지 마시오.)\n",
        "sample = Bicycle(2, 1000, \"삼천리\")\n",
        "sample.info()"
      ],
      "execution_count": null,
      "outputs": [
        {
          "output_type": "stream",
          "text": [
            "바퀴수 : 2, 가격: 1000, 브랜드: 삼천리\n"
          ],
          "name": "stdout"
        }
      ]
    },
    {
      "cell_type": "code",
      "metadata": {
        "id": "TsIEgTVbG1cl",
        "colab": {
          "base_uri": "https://localhost:8080/"
        },
        "outputId": "9f1ae909-d3c3-42b1-cbaf-6ce676809f0f"
      },
      "source": [
        "# 문제 9. 다음의 Car 클래스를 상속받고 아래의 출력예제가 동작하도록 Bicycle 클래스를 정의하라.\n",
        "class Car:\n",
        "  def __init__(self):\n",
        "    self.num_wheels = 0\n",
        "    self.price = 0\n",
        "  \n",
        "  def set_info(self, num_wheels, price):\n",
        "    self.num_wheels = num_wheels\n",
        "    self.price = price\n",
        "\n",
        "  def get_info(self):\n",
        "    print(f\"바퀴수: {self.num_wheels}, 가격: {self.price}\")\n",
        "\n",
        "# 출력 예제\n",
        "# >> sample = Bicycle()\n",
        "# >> sample.set_info(2, 1000, \"삼천리\")\n",
        "# >> sample.get_info()\n",
        "# 바퀴수: 2, 가격: 1000, 브랜드: 삼천리\n",
        "\n",
        "# 정답 9.\n",
        "# 코드 작성: Car 클래스를 상속받는 Bicycle 클래스\n",
        "class Bicycle(Car):\n",
        "  def __init__(self):\n",
        "    self.num_wheels = 0\n",
        "    self.price = 0\n",
        "    self.brand = \"\"\n",
        "  \n",
        "  def set_info(self, num_wheels, price, brand):\n",
        "    self.num_wheels = num_wheels\n",
        "    self.price = price\n",
        "    self.brand = brand\n",
        "\n",
        "  def get_info(self):\n",
        "    print(f\"바퀴: {self.num_wheels}, 가격:{self.price}, 브랜드:{self.brand} \")\n",
        "# 실행 구문 (아래 코드를 수정하지 마시오.)\n",
        "sample = Bicycle()\n",
        "sample.set_info(2, 1000, \"삼천리\")\n",
        "sample.get_info()"
      ],
      "execution_count": null,
      "outputs": [
        {
          "output_type": "stream",
          "text": [
            "바퀴: 2, 가격:1000, 브랜드:삼천리 \n"
          ],
          "name": "stdout"
        }
      ]
    },
    {
      "cell_type": "code",
      "metadata": {
        "id": "WtuIJ2D4HFse",
        "colab": {
          "base_uri": "https://localhost:8080/"
        },
        "outputId": "a2645178-d873-486a-ab49-c9267f854691"
      },
      "source": [
        "# 문제 10. 아래의 Car 클래스로 생성한 2개 객체의 클래스 변수 값을 확인하라.\n",
        "class Car:\n",
        "  brand = \"\"\n",
        "\n",
        "  def __init__(self, num_wheels, price):\n",
        "    self.num_wheels = num_wheels\n",
        "    self.price = price\n",
        "\n",
        "  def get_info(self):\n",
        "    print(f\"바퀴수: {self.num_wheels}, 가격: {self.price}\")\n",
        "\n",
        "sample_1 = Car(2, 1000)\n",
        "sample_2 = Car(4, 2000)\n",
        "Car.brand = \"삼천리\"  # 클래스 변수 값 변경\n",
        "\n",
        "print(sample_1.brand, sample_2.brand)  # 클래스 변수는 모든 객체에 공유\n",
        "print(f\"두 객체의 클래스 변수의 메모리 주소는 동일한가? {sample_1.brand is sample_2.brand}\")"
      ],
      "execution_count": null,
      "outputs": [
        {
          "output_type": "stream",
          "text": [
            "삼천리 삼천리\n",
            "두 객체의 클래스 변수의 메모리 주소는 동일한가? True\n"
          ],
          "name": "stdout"
        }
      ]
    },
    {
      "cell_type": "code",
      "metadata": {
        "id": "sWZyYJQcrGcJ",
        "colab": {
          "base_uri": "https://localhost:8080/"
        },
        "outputId": "7f9339d8-4fca-4b65-de5a-9c02c1efc59b"
      },
      "source": [
        "# 문제 11. 국어, 영어, 수학 점수를 사용자 입력받아 합계를 구하는 객체지향 코드(클래스 사용)를 작성하라.\n",
        "# 이 때, 학생 클래스의 객체는 객체 생성 시 국어, 영어, 수학 점수를 저장하며, 총점을 구하는 메서드를 작성한다.\n",
        "# 입력 예제: 입력값으로 국어는 80점, 영어는 70점, 수학은 90점을 사용한다.\n",
        "# 출력 예제: 세 과목 총점: 240\n",
        "\n",
        "# 정답 11.\n",
        "# 코드 작성: Student 클래스를 구현하라.\n",
        "class Student():\n",
        "  def __init__(self,a,b,c):\n",
        "    self.a = a\n",
        "    self.b = b\n",
        "    self.c = c\n",
        "  def set_sum(self):\n",
        "    self.sum = self.a + self.b + self.c\n",
        "  \n",
        "  def print_sum(self):\n",
        "    print(f\"세 과목 총점: {self.sum}\")\n",
        "\n",
        "# 실행 구문 (아래 코드를 수정하지 마시오.)\n",
        "print(\"국어, 영어, 수학 점수를 차례로 입력하시오.\\n\")\n",
        "score = input()\n",
        "score = score.split()\n",
        "score = list(map(int, score))\n",
        "student_1 = Student(score[0], score[1], score[2])\n",
        "student_1.set_sum()\n",
        "student_1.print_sum()\n"
      ],
      "execution_count": null,
      "outputs": [
        {
          "output_type": "stream",
          "text": [
            "국어, 영어, 수학 점수를 차례로 입력하시오.\n",
            "\n",
            "70 80 90 \n",
            "세 과목 총점: 240\n"
          ],
          "name": "stdout"
        }
      ]
    },
    {
      "cell_type": "code",
      "metadata": {
        "id": "x0U_Y6scf5xF"
      },
      "source": [
        ""
      ],
      "execution_count": null,
      "outputs": []
    }
  ]
}